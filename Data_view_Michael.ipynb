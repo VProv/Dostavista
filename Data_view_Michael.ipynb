{
 "cells": [
  {
   "cell_type": "code",
   "execution_count": 152,
   "metadata": {},
   "outputs": [],
   "source": [
    "import json\n",
    "import pandas as pd\n",
    "import matplotlib.pyplot as plt\n",
    "import seaborn as sns\n",
    "import numpy as np\n",
    "from tqdm import tqdm\n",
    "\n",
    "from scipy.spatial import distance_matrix"
   ]
  },
  {
   "cell_type": "code",
   "execution_count": 153,
   "metadata": {},
   "outputs": [],
   "source": [
    "with open('data/contest_input.json') as f:\n",
    "    contest_data = json.load(f)"
   ]
  },
  {
   "cell_type": "code",
   "execution_count": 154,
   "metadata": {},
   "outputs": [
    {
     "data": {
      "text/plain": [
       "dict_keys(['couriers', 'depots', 'orders'])"
      ]
     },
     "execution_count": 154,
     "metadata": {},
     "output_type": "execute_result"
    }
   ],
   "source": [
    "contest_data.keys()"
   ]
  },
  {
   "cell_type": "code",
   "execution_count": 155,
   "metadata": {},
   "outputs": [],
   "source": [
    "couriers = pd.DataFrame(contest_data['couriers'])\n",
    "orders = pd.DataFrame(contest_data['orders'])\n",
    "depots = pd.DataFrame(contest_data['depots'])"
   ]
  },
  {
   "cell_type": "code",
   "execution_count": 156,
   "metadata": {},
   "outputs": [],
   "source": [
    "couriers_x = couriers.location_x\n",
    "couriers_y = couriers.location_y"
   ]
  },
  {
   "cell_type": "code",
   "execution_count": 157,
   "metadata": {},
   "outputs": [
    {
     "data": {
      "text/plain": [
       "(300,)"
      ]
     },
     "execution_count": 157,
     "metadata": {},
     "output_type": "execute_result"
    }
   ],
   "source": [
    "couriers_x.shape"
   ]
  },
  {
   "cell_type": "code",
   "execution_count": 158,
   "metadata": {},
   "outputs": [],
   "source": [
    "drop_x = orders['dropoff_location_x']\n",
    "drop_y = orders['dropoff_location_y']\n",
    "pick_x = orders['pickup_location_x']\n",
    "pick_y = orders['pickup_location_y']"
   ]
  },
  {
   "cell_type": "code",
   "execution_count": 159,
   "metadata": {},
   "outputs": [
    {
     "data": {
      "text/plain": [
       "(12, 3)"
      ]
     },
     "execution_count": 159,
     "metadata": {},
     "output_type": "execute_result"
    }
   ],
   "source": [
    "depots.shape"
   ]
  },
  {
   "cell_type": "code",
   "execution_count": 160,
   "metadata": {},
   "outputs": [],
   "source": [
    "depots_x = depots.location_x\n",
    "depots_y = depots.location_y"
   ]
  },
  {
   "cell_type": "code",
   "execution_count": 161,
   "metadata": {},
   "outputs": [
    {
     "name": "stderr",
     "output_type": "stream",
     "text": [
      "/usr/local/lib/python3.7/site-packages/ipykernel_launcher.py:1: RuntimeWarning: More than 20 figures have been opened. Figures created through the pyplot interface (`matplotlib.pyplot.figure`) are retained until explicitly closed and may consume too much memory. (To control this warning, see the rcParam `figure.max_open_warning`).\n  \"\"\"Entry point for launching an IPython kernel.\n"
     ]
    },
    {
     "data": {
      "text/plain": [
       "<matplotlib.collections.PathCollection at 0x160e159b0>"
      ]
     },
     "execution_count": 161,
     "metadata": {},
     "output_type": "execute_result"
    }
   ],
   "source": [
    "fig = plt.figure(figsize=(15,15))\n",
    "plt.scatter(drop_x,drop_y, color='g', alpha=0.5)\n",
    "plt.scatter(pick_x,pick_y, color='b', alpha=0.5)\n",
    "plt.scatter(couriers_x, couriers_y, color='r')"
   ]
  },
  {
   "cell_type": "code",
   "execution_count": 162,
   "metadata": {},
   "outputs": [
    {
     "name": "stderr",
     "output_type": "stream",
     "text": [
      "/usr/local/lib/python3.7/site-packages/ipykernel_launcher.py:1: RuntimeWarning: More than 20 figures have been opened. Figures created through the pyplot interface (`matplotlib.pyplot.figure`) are retained until explicitly closed and may consume too much memory. (To control this warning, see the rcParam `figure.max_open_warning`).\n  \"\"\"Entry point for launching an IPython kernel.\n"
     ]
    },
    {
     "data": {
      "text/plain": [
       "<matplotlib.collections.PathCollection at 0x115dfaa58>"
      ]
     },
     "execution_count": 162,
     "metadata": {},
     "output_type": "execute_result"
    }
   ],
   "source": [
    "fig = plt.figure(figsize=(15,15))\n",
    "plt.scatter(couriers_x, couriers_y, color='r')\n",
    "plt.scatter(depots_x, depots_y, color='black')"
   ]
  },
  {
   "cell_type": "code",
   "execution_count": 164,
   "metadata": {},
   "outputs": [
    {
     "name": "stderr",
     "output_type": "stream",
     "text": [
      "/usr/local/lib/python3.7/site-packages/ipykernel_launcher.py:1: RuntimeWarning: More than 20 figures have been opened. Figures created through the pyplot interface (`matplotlib.pyplot.figure`) are retained until explicitly closed and may consume too much memory. (To control this warning, see the rcParam `figure.max_open_warning`).\n  \"\"\"Entry point for launching an IPython kernel.\n"
     ]
    },
    {
     "data": {
      "text/plain": [
       "<matplotlib.collections.PathCollection at 0x115e364a8>"
      ]
     },
     "execution_count": 164,
     "metadata": {},
     "output_type": "execute_result"
    }
   ],
   "source": [
    "fig = plt.figure(figsize=(15,15))\n",
    "sns.kdeplot(drop_x, drop_y, cmap=\"Reds\", n_levels=50,shade=True)\n",
    "plt.scatter(depots_x, depots_y, color='black')"
   ]
  },
  {
   "cell_type": "code",
   "execution_count": 128,
   "metadata": {},
   "outputs": [
    {
     "name": "stderr",
     "output_type": "stream",
     "text": [
      "/usr/local/lib/python3.7/site-packages/ipykernel_launcher.py:1: RuntimeWarning: More than 20 figures have been opened. Figures created through the pyplot interface (`matplotlib.pyplot.figure`) are retained until explicitly closed and may consume too much memory. (To control this warning, see the rcParam `figure.max_open_warning`).\n  \"\"\"Entry point for launching an IPython kernel.\n"
     ]
    },
    {
     "data": {
      "text/plain": [
       "<matplotlib.axes._subplots.AxesSubplot at 0x115c9d6d8>"
      ]
     },
     "execution_count": 128,
     "metadata": {},
     "output_type": "execute_result"
    }
   ],
   "source": [
    "fig = plt.figure(figsize=(15,15))\n",
    "sns.kdeplot(couriers_x, couriers_y, cmap=\"Reds\", n_levels=30, shade=True)"
   ]
  },
  {
   "cell_type": "code",
   "execution_count": 165,
   "metadata": {},
   "outputs": [
    {
     "data": {
      "text/plain": [
       "(7303, 12)"
      ]
     },
     "execution_count": 165,
     "metadata": {},
     "output_type": "execute_result"
    }
   ],
   "source": [
    "orders.shape"
   ]
  },
  {
   "cell_type": "code",
   "execution_count": 166,
   "metadata": {},
   "outputs": [
    {
     "data": {
      "text/plain": [
       "(300, 3)"
      ]
     },
     "execution_count": 166,
     "metadata": {},
     "output_type": "execute_result"
    }
   ],
   "source": [
    "couriers.shape"
   ]
  },
  {
   "cell_type": "code",
   "execution_count": 167,
   "metadata": {},
   "outputs": [],
   "source": [
    "def manh_distance(x0,y0,x1,y1):\n",
    "    return np.abs(x0 - x1) + np.abs(y0-y1)\n",
    "\n",
    "def courier_distance(x0,y0,x1,y1):\n",
    "    return 10 + manh_distance(x0,y0,x1,y1)"
   ]
  },
  {
   "cell_type": "code",
   "execution_count": 168,
   "metadata": {},
   "outputs": [],
   "source": [
    "def filter_orders(orders):\n",
    "    orders = orders[(orders['pickup_to']>=360) \n",
    "                    & (orders['dropoff_to'] >=360) \n",
    "                    & (orders['payment'] > 0) \n",
    "                    & (orders['dropoff_to'] >= orders['pickup_to'])]\n",
    "    return orders"
   ]
  },
  {
   "cell_type": "code",
   "execution_count": 169,
   "metadata": {},
   "outputs": [],
   "source": [
    "orders = filter_orders(orders)"
   ]
  },
  {
   "cell_type": "code",
   "execution_count": 170,
   "metadata": {},
   "outputs": [],
   "source": [
    "orders['spent_time'] = 10 + manh_distance(drop_x, drop_y, pick_x, pick_y)"
   ]
  },
  {
   "cell_type": "code",
   "execution_count": 171,
   "metadata": {},
   "outputs": [
    {
     "data": {
      "text/plain": [
       "count    7218.000000\nmean      152.792186\nstd        87.775763\nmin        10.000000\n25%        85.000000\n50%       142.000000\n75%       208.000000\nmax       482.000000\nName: spent_time, dtype: float64"
      ]
     },
     "execution_count": 171,
     "metadata": {},
     "output_type": "execute_result"
    }
   ],
   "source": [
    "orders['spent_time'].describe()"
   ]
  },
  {
   "cell_type": "code",
   "execution_count": 172,
   "metadata": {},
   "outputs": [
    {
     "data": {
      "text/html": [
       "<div>\n",
       "<style scoped>\n",
       "    .dataframe tbody tr th:only-of-type {\n",
       "        vertical-align: middle;\n",
       "    }\n",
       "\n",
       "    .dataframe tbody tr th {\n",
       "        vertical-align: top;\n",
       "    }\n",
       "\n",
       "    .dataframe thead th {\n",
       "        text-align: right;\n",
       "    }\n",
       "</style>\n",
       "<table border=\"1\" class=\"dataframe\">\n",
       "  <thead>\n",
       "    <tr style=\"text-align: right;\">\n",
       "      <th></th>\n",
       "      <th>order_id</th>\n",
       "      <th>pickup_point_id</th>\n",
       "      <th>pickup_from</th>\n",
       "      <th>pickup_to</th>\n",
       "      <th>pickup_location_x</th>\n",
       "      <th>pickup_location_y</th>\n",
       "      <th>dropoff_point_id</th>\n",
       "      <th>dropoff_from</th>\n",
       "      <th>dropoff_to</th>\n",
       "      <th>dropoff_location_x</th>\n",
       "      <th>dropoff_location_y</th>\n",
       "      <th>payment</th>\n",
       "      <th>spent_time</th>\n",
       "    </tr>\n",
       "  </thead>\n",
       "  <tbody>\n",
       "    <tr>\n",
       "      <td>0</td>\n",
       "      <td>10001</td>\n",
       "      <td>40001</td>\n",
       "      <td>480</td>\n",
       "      <td>570</td>\n",
       "      <td>284</td>\n",
       "      <td>235</td>\n",
       "      <td>60001</td>\n",
       "      <td>600</td>\n",
       "      <td>960</td>\n",
       "      <td>252</td>\n",
       "      <td>197</td>\n",
       "      <td>313</td>\n",
       "      <td>80</td>\n",
       "    </tr>\n",
       "    <tr>\n",
       "      <td>1</td>\n",
       "      <td>10002</td>\n",
       "      <td>40002</td>\n",
       "      <td>420</td>\n",
       "      <td>450</td>\n",
       "      <td>244</td>\n",
       "      <td>262</td>\n",
       "      <td>60002</td>\n",
       "      <td>630</td>\n",
       "      <td>660</td>\n",
       "      <td>24</td>\n",
       "      <td>105</td>\n",
       "      <td>519</td>\n",
       "      <td>387</td>\n",
       "    </tr>\n",
       "    <tr>\n",
       "      <td>2</td>\n",
       "      <td>10003</td>\n",
       "      <td>40003</td>\n",
       "      <td>390</td>\n",
       "      <td>1020</td>\n",
       "      <td>225</td>\n",
       "      <td>141</td>\n",
       "      <td>60003</td>\n",
       "      <td>1050</td>\n",
       "      <td>1080</td>\n",
       "      <td>115</td>\n",
       "      <td>38</td>\n",
       "      <td>380</td>\n",
       "      <td>223</td>\n",
       "    </tr>\n",
       "    <tr>\n",
       "      <td>4</td>\n",
       "      <td>10005</td>\n",
       "      <td>40005</td>\n",
       "      <td>300</td>\n",
       "      <td>780</td>\n",
       "      <td>233</td>\n",
       "      <td>108</td>\n",
       "      <td>60005</td>\n",
       "      <td>840</td>\n",
       "      <td>870</td>\n",
       "      <td>12</td>\n",
       "      <td>101</td>\n",
       "      <td>482</td>\n",
       "      <td>238</td>\n",
       "    </tr>\n",
       "    <tr>\n",
       "      <td>6</td>\n",
       "      <td>10007</td>\n",
       "      <td>40007</td>\n",
       "      <td>480</td>\n",
       "      <td>540</td>\n",
       "      <td>47</td>\n",
       "      <td>78</td>\n",
       "      <td>60007</td>\n",
       "      <td>600</td>\n",
       "      <td>660</td>\n",
       "      <td>280</td>\n",
       "      <td>142</td>\n",
       "      <td>521</td>\n",
       "      <td>307</td>\n",
       "    </tr>\n",
       "  </tbody>\n",
       "</table>\n",
       "</div>"
      ],
      "text/plain": [
       "<div>\n",
       "<style scoped>\n",
       "    .dataframe tbody tr th:only-of-type {\n",
       "        vertical-align: middle;\n",
       "    }\n",
       "\n",
       "    .dataframe tbody tr th {\n",
       "        vertical-align: top;\n",
       "    }\n",
       "\n",
       "    .dataframe thead th {\n",
       "        text-align: right;\n",
       "    }\n",
       "</style>\n",
       "<table border=\"1\" class=\"dataframe\">\n",
       "  <thead>\n",
       "    <tr style=\"text-align: right;\">\n",
       "      <th></th>\n",
       "      <th>order_id</th>\n",
       "      <th>pickup_point_id</th>\n",
       "      <th>pickup_from</th>\n",
       "      <th>pickup_to</th>\n",
       "      <th>pickup_location_x</th>\n",
       "      <th>pickup_location_y</th>\n",
       "      <th>dropoff_point_id</th>\n",
       "      <th>dropoff_from</th>\n",
       "      <th>dropoff_to</th>\n",
       "      <th>dropoff_location_x</th>\n",
       "      <th>dropoff_location_y</th>\n",
       "      <th>payment</th>\n",
       "      <th>spent_time</th>\n",
       "    </tr>\n",
       "  </thead>\n",
       "  <tbody>\n",
       "    <tr>\n",
       "      <td>0</td>\n",
       "      <td>10001</td>\n",
       "      <td>40001</td>\n",
       "      <td>480</td>\n",
       "      <td>570</td>\n",
       "      <td>284</td>\n",
       "      <td>235</td>\n",
       "      <td>60001</td>\n",
       "      <td>600</td>\n",
       "      <td>960</td>\n",
       "      <td>252</td>\n",
       "      <td>197</td>\n",
       "      <td>313</td>\n",
       "      <td>80</td>\n",
       "    </tr>\n",
       "    <tr>\n",
       "      <td>1</td>\n",
       "      <td>10002</td>\n",
       "      <td>40002</td>\n",
       "      <td>420</td>\n",
       "      <td>450</td>\n",
       "      <td>244</td>\n",
       "      <td>262</td>\n",
       "      <td>60002</td>\n",
       "      <td>630</td>\n",
       "      <td>660</td>\n",
       "      <td>24</td>\n",
       "      <td>105</td>\n",
       "      <td>519</td>\n",
       "      <td>387</td>\n",
       "    </tr>\n",
       "    <tr>\n",
       "      <td>2</td>\n",
       "      <td>10003</td>\n",
       "      <td>40003</td>\n",
       "      <td>390</td>\n",
       "      <td>1020</td>\n",
       "      <td>225</td>\n",
       "      <td>141</td>\n",
       "      <td>60003</td>\n",
       "      <td>1050</td>\n",
       "      <td>1080</td>\n",
       "      <td>115</td>\n",
       "      <td>38</td>\n",
       "      <td>380</td>\n",
       "      <td>223</td>\n",
       "    </tr>\n",
       "    <tr>\n",
       "      <td>4</td>\n",
       "      <td>10005</td>\n",
       "      <td>40005</td>\n",
       "      <td>300</td>\n",
       "      <td>780</td>\n",
       "      <td>233</td>\n",
       "      <td>108</td>\n",
       "      <td>60005</td>\n",
       "      <td>840</td>\n",
       "      <td>870</td>\n",
       "      <td>12</td>\n",
       "      <td>101</td>\n",
       "      <td>482</td>\n",
       "      <td>238</td>\n",
       "    </tr>\n",
       "    <tr>\n",
       "      <td>6</td>\n",
       "      <td>10007</td>\n",
       "      <td>40007</td>\n",
       "      <td>480</td>\n",
       "      <td>540</td>\n",
       "      <td>47</td>\n",
       "      <td>78</td>\n",
       "      <td>60007</td>\n",
       "      <td>600</td>\n",
       "      <td>660</td>\n",
       "      <td>280</td>\n",
       "      <td>142</td>\n",
       "      <td>521</td>\n",
       "      <td>307</td>\n",
       "    </tr>\n",
       "  </tbody>\n",
       "</table>\n",
       "</div>"
      ]
     },
     "execution_count": 172,
     "metadata": {},
     "output_type": "execute_result"
    }
   ],
   "source": [
    "orders[:5]"
   ]
  },
  {
   "cell_type": "code",
   "execution_count": 173,
   "metadata": {},
   "outputs": [
    {
     "name": "stdout",
     "output_type": "stream",
     "text": [
      "CPU times: user 4.06 s, sys: 1.74 s, total: 5.8 s\nWall time: 8.68 s\n"
     ]
    }
   ],
   "source": [
    "%%time\n",
    "drop_x = orders['dropoff_location_x'].values\n",
    "drop_y = orders['dropoff_location_y'].values\n",
    "pick_x = orders['pickup_location_x'].values\n",
    "pick_y = orders['pickup_location_y'].values\n",
    "money = orders['payment'].values\n",
    "end2start = np.zeros((orders.shape[0], orders.shape[0]))\n",
    "end2start_time = np.zeros((orders.shape[0], orders.shape[0]))\n",
    "drop_coordinates = orders[['dropoff_location_x', 'dropoff_location_y']].values\n",
    "pick_coordinates = orders[['pickup_location_x', 'pickup_location_y']].values\n",
    "time_from_start_to_end = np.array(courier_distance(pick_x, pick_y, drop_x, drop_y))\n",
    "# [end_id, start_id]\n",
    "time_from_ends_to_starts = 10 + distance_matrix(drop_coordinates, pick_coordinates, p=1)\n",
    "# Avoid to go to myself\n",
    "time_from_ends_to_starts += np.eye(time_from_ends_to_starts.shape[0]) * 10e6\n",
    "# end0 -> start1 -> end1\n",
    "time_from_ends_to_end = time_from_start_to_end + time_from_ends_to_starts\n",
    "#\n",
    "metric_from_ends_to_end = np.array(money) - time_from_ends_to_end * 2\n",
    "\n",
    "drop_from = orders['dropoff_from'].values\n",
    "drop_to = orders['dropoff_to'].values\n",
    "pick_from = orders['pickup_from'].values\n",
    "pick_to = orders['pickup_to'].values"
   ]
  },
  {
   "cell_type": "code",
   "execution_count": 175,
   "metadata": {},
   "outputs": [],
   "source": [
    "def greedy_courier(start_position, visited_nodes):\n",
    "    \"\"\"\n",
    "    Need a lot of global variables\n",
    "    \"\"\"\n",
    "    path = []\n",
    "    pick_time_first = 10 + distance_matrix([start_position], pick_coordinates, p=1).reshape((-1,))\n",
    "    drop_time_first = pick_time_first + time_from_start_to_end\n",
    "    metric_first = money - (pick_time_first + drop_time_first) * 2\n",
    "    current_time = 360\n",
    "    sorted_metric = np.argsort(metric_first)[::-1]\n",
    "    # first step\n",
    "    for j, id_ in enumerate(sorted_metric):\n",
    "        if id_ in visited_nodes:\n",
    "            continue\n",
    "        pick_time = current_time + pick_time_first[id_]\n",
    "        drop_time = current_time + drop_time_first[id_]\n",
    "        if metric_first[id_] < -10:\n",
    "            break\n",
    "        if  pick_from[id_] < pick_time < pick_to[id_] and drop_from[id_] < drop_time < drop_to[id_]:\n",
    "            path.append(id_)\n",
    "            current_time = drop_time\n",
    "            metric_from_ends_to_end[:, id_] = -10e5\n",
    "            break\n",
    "    STOP = False\n",
    "    if len(path) == 0:\n",
    "        STOP = True\n",
    "    \n",
    "    while not STOP:\n",
    "        current_metric_array = metric_from_ends_to_end[path[-1], :]\n",
    "        sorted_metric = np.argsort(current_metric_array)[::-1]\n",
    "        for j, id_ in enumerate(sorted_metric):\n",
    "            pick_time = current_time + time_from_ends_to_starts[path[-1]][id_]\n",
    "            drop_time = pick_time + time_from_start_to_end[id_]\n",
    "            if  current_metric_array[id_] < -10 or current_time >=1439:\n",
    "                STOP = True\n",
    "            if  pick_from[id_] < pick_time < pick_to[id_] and drop_from[id_] < drop_time < drop_to[id_]:\n",
    "                path.append(id_)\n",
    "                current_time = drop_time\n",
    "                metric_from_ends_to_end[:, id_] = -10e5\n",
    "                break\n",
    "    visited_nodes = visited_nodes | set(path)\n",
    "    return path, current_time, visited_nodes"
   ]
  },
  {
   "cell_type": "code",
   "execution_count": 176,
   "metadata": {},
   "outputs": [
    {
     "name": "stderr",
     "output_type": "stream",
     "text": [
      "\r  0%|          | 0/300 [00:00<?, ?it/s]"
     ]
    },
    {
     "name": "stderr",
     "output_type": "stream",
     "text": [
      "\r  0%|          | 1/300 [00:00<00:52,  5.73it/s]"
     ]
    },
    {
     "name": "stderr",
     "output_type": "stream",
     "text": [
      "\r  1%|          | 2/300 [00:00<00:46,  6.47it/s]"
     ]
    },
    {
     "name": "stderr",
     "output_type": "stream",
     "text": [
      "\r  1%|▏         | 4/300 [00:00<00:38,  7.70it/s]"
     ]
    },
    {
     "name": "stderr",
     "output_type": "stream",
     "text": [
      "\r  2%|▏         | 6/300 [00:00<00:32,  8.96it/s]"
     ]
    },
    {
     "name": "stderr",
     "output_type": "stream",
     "text": [
      "\r  2%|▏         | 7/300 [00:00<00:54,  5.36it/s]"
     ]
    },
    {
     "name": "stderr",
     "output_type": "stream",
     "text": [
      "\r  3%|▎         | 9/300 [00:01<00:52,  5.57it/s]"
     ]
    },
    {
     "name": "stderr",
     "output_type": "stream",
     "text": [
      "\r  4%|▎         | 11/300 [00:01<00:41,  6.97it/s]"
     ]
    },
    {
     "name": "stderr",
     "output_type": "stream",
     "text": [
      "\r  4%|▍         | 13/300 [00:01<00:34,  8.42it/s]"
     ]
    },
    {
     "name": "stderr",
     "output_type": "stream",
     "text": [
      "\r  5%|▌         | 16/300 [00:01<00:29,  9.53it/s]"
     ]
    },
    {
     "name": "stderr",
     "output_type": "stream",
     "text": [
      "\r  6%|▌         | 18/300 [00:01<00:26, 10.63it/s]"
     ]
    },
    {
     "name": "stderr",
     "output_type": "stream",
     "text": [
      "\r  7%|▋         | 20/300 [00:01<00:23, 11.68it/s]"
     ]
    },
    {
     "name": "stderr",
     "output_type": "stream",
     "text": [
      "\r  7%|▋         | 22/300 [00:02<00:22, 12.17it/s]"
     ]
    },
    {
     "name": "stderr",
     "output_type": "stream",
     "text": [
      "\r  8%|▊         | 24/300 [00:02<00:21, 12.79it/s]"
     ]
    },
    {
     "name": "stderr",
     "output_type": "stream",
     "text": [
      "\r  9%|▊         | 26/300 [00:02<00:19, 13.80it/s]"
     ]
    },
    {
     "name": "stderr",
     "output_type": "stream",
     "text": [
      "\r  9%|▉         | 28/300 [00:02<00:18, 15.09it/s]"
     ]
    },
    {
     "name": "stderr",
     "output_type": "stream",
     "text": [
      "\r 10%|█         | 31/300 [00:02<00:16, 16.47it/s]"
     ]
    },
    {
     "name": "stderr",
     "output_type": "stream",
     "text": [
      "\r 11%|█         | 33/300 [00:02<00:16, 15.99it/s]"
     ]
    },
    {
     "name": "stderr",
     "output_type": "stream",
     "text": [
      "\r 12%|█▏        | 35/300 [00:02<00:18, 14.15it/s]"
     ]
    },
    {
     "name": "stderr",
     "output_type": "stream",
     "text": [
      "\r 12%|█▏        | 37/300 [00:03<00:22, 11.65it/s]"
     ]
    },
    {
     "name": "stderr",
     "output_type": "stream",
     "text": [
      "\r 13%|█▎        | 39/300 [00:03<00:22, 11.70it/s]"
     ]
    },
    {
     "name": "stderr",
     "output_type": "stream",
     "text": [
      "\r 14%|█▎        | 41/300 [00:03<00:22, 11.70it/s]"
     ]
    },
    {
     "name": "stderr",
     "output_type": "stream",
     "text": [
      "\r 15%|█▍        | 44/300 [00:03<00:19, 13.21it/s]"
     ]
    },
    {
     "name": "stderr",
     "output_type": "stream",
     "text": [
      "\r 16%|█▌        | 47/300 [00:03<00:17, 14.37it/s]"
     ]
    },
    {
     "name": "stderr",
     "output_type": "stream",
     "text": [
      "\r 17%|█▋        | 50/300 [00:04<00:16, 15.12it/s]"
     ]
    },
    {
     "name": "stderr",
     "output_type": "stream",
     "text": [
      "\r 18%|█▊        | 53/300 [00:04<00:15, 16.31it/s]"
     ]
    },
    {
     "name": "stderr",
     "output_type": "stream",
     "text": [
      "\r 19%|█▉        | 58/300 [00:04<00:12, 19.35it/s]"
     ]
    },
    {
     "name": "stderr",
     "output_type": "stream",
     "text": [
      "\r 21%|██▏       | 64/300 [00:04<00:10, 23.17it/s]"
     ]
    },
    {
     "name": "stderr",
     "output_type": "stream",
     "text": [
      "\r 23%|██▎       | 68/300 [00:04<00:09, 25.49it/s]"
     ]
    },
    {
     "name": "stderr",
     "output_type": "stream",
     "text": [
      "\r 24%|██▎       | 71/300 [00:04<00:09, 24.80it/s]"
     ]
    },
    {
     "name": "stderr",
     "output_type": "stream",
     "text": [
      "\r 26%|██▌       | 77/300 [00:04<00:07, 28.93it/s]"
     ]
    },
    {
     "name": "stderr",
     "output_type": "stream",
     "text": [
      "\r 27%|██▋       | 81/300 [00:04<00:07, 28.83it/s]"
     ]
    },
    {
     "name": "stderr",
     "output_type": "stream",
     "text": [
      "\r 29%|██▊       | 86/300 [00:05<00:07, 30.54it/s]"
     ]
    },
    {
     "name": "stderr",
     "output_type": "stream",
     "text": [
      "\r 30%|███       | 90/300 [00:05<00:07, 27.64it/s]"
     ]
    },
    {
     "name": "stderr",
     "output_type": "stream",
     "text": [
      "\r 31%|███▏      | 94/300 [00:05<00:09, 22.67it/s]"
     ]
    },
    {
     "name": "stderr",
     "output_type": "stream",
     "text": [
      "\r 32%|███▏      | 97/300 [00:05<00:09, 22.55it/s]"
     ]
    },
    {
     "name": "stderr",
     "output_type": "stream",
     "text": [
      "\r 33%|███▎      | 100/300 [00:05<00:08, 22.82it/s]"
     ]
    },
    {
     "name": "stderr",
     "output_type": "stream",
     "text": [
      "\r 37%|███▋      | 110/300 [00:05<00:06, 28.24it/s]"
     ]
    },
    {
     "name": "stderr",
     "output_type": "stream",
     "text": [
      "\r 38%|███▊      | 114/300 [00:06<00:07, 24.04it/s]"
     ]
    },
    {
     "name": "stderr",
     "output_type": "stream",
     "text": [
      "\r 41%|████      | 123/300 [00:06<00:05, 30.29it/s]"
     ]
    },
    {
     "name": "stderr",
     "output_type": "stream",
     "text": [
      "\r 43%|████▎     | 129/300 [00:06<00:04, 35.54it/s]"
     ]
    },
    {
     "name": "stderr",
     "output_type": "stream",
     "text": [
      "\r 45%|████▍     | 134/300 [00:06<00:04, 34.84it/s]"
     ]
    },
    {
     "name": "stderr",
     "output_type": "stream",
     "text": [
      "\r 46%|████▋     | 139/300 [00:06<00:04, 36.88it/s]"
     ]
    },
    {
     "name": "stderr",
     "output_type": "stream",
     "text": [
      "\r 49%|████▊     | 146/300 [00:06<00:03, 39.91it/s]"
     ]
    },
    {
     "name": "stderr",
     "output_type": "stream",
     "text": [
      "\r 50%|█████     | 151/300 [00:06<00:03, 40.56it/s]"
     ]
    },
    {
     "name": "stderr",
     "output_type": "stream",
     "text": [
      "\r 52%|█████▏    | 156/300 [00:07<00:04, 31.94it/s]"
     ]
    },
    {
     "name": "stderr",
     "output_type": "stream",
     "text": [
      "\r 56%|█████▌    | 168/300 [00:07<00:03, 39.29it/s]"
     ]
    },
    {
     "name": "stderr",
     "output_type": "stream",
     "text": [
      "\r 59%|█████▊    | 176/300 [00:07<00:02, 46.33it/s]"
     ]
    },
    {
     "name": "stderr",
     "output_type": "stream",
     "text": [
      "\r 61%|██████    | 183/300 [00:07<00:02, 48.67it/s]"
     ]
    },
    {
     "name": "stderr",
     "output_type": "stream",
     "text": [
      "\r 66%|██████▌   | 197/300 [00:07<00:01, 58.82it/s]"
     ]
    },
    {
     "name": "stderr",
     "output_type": "stream",
     "text": [
      "\r 68%|██████▊   | 205/300 [00:07<00:01, 59.89it/s]"
     ]
    },
    {
     "name": "stderr",
     "output_type": "stream",
     "text": [
      "\r 71%|███████   | 213/300 [00:07<00:01, 58.85it/s]"
     ]
    },
    {
     "name": "stderr",
     "output_type": "stream",
     "text": [
      "\r 73%|███████▎  | 220/300 [00:08<00:01, 52.44it/s]"
     ]
    },
    {
     "name": "stderr",
     "output_type": "stream",
     "text": [
      "\r 76%|███████▋  | 229/300 [00:08<00:01, 56.79it/s]"
     ]
    },
    {
     "name": "stderr",
     "output_type": "stream",
     "text": [
      "\r 81%|████████  | 243/300 [00:08<00:00, 65.16it/s]"
     ]
    },
    {
     "name": "stderr",
     "output_type": "stream",
     "text": [
      "\r 85%|████████▍ | 254/300 [00:08<00:00, 74.20it/s]"
     ]
    },
    {
     "name": "stderr",
     "output_type": "stream",
     "text": [
      "\r 95%|█████████▍| 284/300 [00:08<00:00, 91.35it/s]"
     ]
    },
    {
     "name": "stderr",
     "output_type": "stream",
     "text": [
      "\r100%|██████████| 300/300 [00:08<00:00, 34.63it/s]"
     ]
    },
    {
     "name": "stderr",
     "output_type": "stream",
     "text": [
      "\n"
     ]
    }
   ],
   "source": [
    "paths, times = [], []\n",
    "visited_nodes = set()\n",
    "for start_position in tqdm(couriers[['location_x', 'location_y']].values):\n",
    "    path, time, visited_nodes = greedy_courier(start_position, visited_nodes=visited_nodes)\n",
    "    paths.append(path)\n",
    "    times.append(time)"
   ]
  },
  {
   "cell_type": "code",
   "execution_count": 177,
   "metadata": {},
   "outputs": [],
   "source": [
    "def get_profit(path, current_time):\n",
    "    earned = 0\n",
    "    for id_ in path:\n",
    "        earned += money[id_]\n",
    "    return earned - (current_time - 360) * 2"
   ]
  },
  {
   "cell_type": "code",
   "execution_count": 178,
   "metadata": {},
   "outputs": [],
   "source": [
    "profits = []\n",
    "for path, time in zip(paths, times):\n",
    "    profits.append(get_profit(path,time))"
   ]
  },
  {
   "cell_type": "code",
   "execution_count": 179,
   "metadata": {},
   "outputs": [],
   "source": [
    "profits = np.array(profits)"
   ]
  },
  {
   "cell_type": "code",
   "execution_count": 180,
   "metadata": {},
   "outputs": [
    {
     "data": {
      "text/plain": [
       "169796.0"
      ]
     },
     "execution_count": 180,
     "metadata": {},
     "output_type": "execute_result"
    }
   ],
   "source": [
    "np.sum(profits)"
   ]
  },
  {
   "cell_type": "code",
   "execution_count": 181,
   "metadata": {},
   "outputs": [],
   "source": [
    "visited_nodes = visited_nodes | set(paths[0])"
   ]
  },
  {
   "cell_type": "code",
   "execution_count": 182,
   "metadata": {},
   "outputs": [
    {
     "data": {
      "text/plain": [
       "{13,\n 25,\n 54,\n 60,\n 62,\n 71,\n 77,\n 79,\n 85,\n 91,\n 94,\n 98,\n 101,\n 103,\n 106,\n 108,\n 126,\n 133,\n 139,\n 140,\n 143,\n 152,\n 154,\n 156,\n 157,\n 159,\n 173,\n 177,\n 198,\n 200,\n 226,\n 235,\n 240,\n 241,\n 271,\n 277,\n 278,\n 280,\n 282,\n 284,\n 292,\n 296,\n 309,\n 318,\n 326,\n 327,\n 328,\n 330,\n 334,\n 335,\n 344,\n 359,\n 361,\n 364,\n 367,\n 371,\n 372,\n 378,\n 388,\n 395,\n 396,\n 400,\n 415,\n 418,\n 426,\n 431,\n 467,\n 473,\n 480,\n 484,\n 489,\n 502,\n 514,\n 521,\n 528,\n 540,\n 550,\n 551,\n 559,\n 575,\n 604,\n 612,\n 633,\n 636,\n 640,\n 645,\n 655,\n 660,\n 670,\n 671,\n 676,\n 693,\n 694,\n 696,\n 708,\n 713,\n 721,\n 739,\n 740,\n 741,\n 750,\n 778,\n 785,\n 802,\n 823,\n 838,\n 841,\n 843,\n 851,\n 855,\n 857,\n 858,\n 860,\n 863,\n 871,\n 894,\n 895,\n 897,\n 898,\n 899,\n 904,\n 906,\n 916,\n 921,\n 922,\n 932,\n 935,\n 938,\n 940,\n 942,\n 962,\n 968,\n 974,\n 976,\n 978,\n 979,\n 982,\n 989,\n 994,\n 995,\n 999,\n 1006,\n 1007,\n 1013,\n 1022,\n 1024,\n 1025,\n 1029,\n 1030,\n 1032,\n 1034,\n 1035,\n 1037,\n 1045,\n 1047,\n 1048,\n 1049,\n 1069,\n 1070,\n 1076,\n 1078,\n 1083,\n 1093,\n 1094,\n 1098,\n 1107,\n 1118,\n 1127,\n 1144,\n 1146,\n 1151,\n 1174,\n 1194,\n 1196,\n 1199,\n 1206,\n 1212,\n 1221,\n 1227,\n 1238,\n 1241,\n 1263,\n 1280,\n 1287,\n 1289,\n 1291,\n 1295,\n 1303,\n 1316,\n 1348,\n 1350,\n 1367,\n 1398,\n 1410,\n 1415,\n 1427,\n 1437,\n 1452,\n 1464,\n 1471,\n 1485,\n 1502,\n 1515,\n 1517,\n 1518,\n 1519,\n 1522,\n 1543,\n 1545,\n 1563,\n 1564,\n 1579,\n 1595,\n 1600,\n 1617,\n 1629,\n 1637,\n 1638,\n 1658,\n 1690,\n 1697,\n 1708,\n 1715,\n 1730,\n 1731,\n 1756,\n 1777,\n 1784,\n 1788,\n 1791,\n 1810,\n 1813,\n 1820,\n 1847,\n 1852,\n 1854,\n 1858,\n 1866,\n 1874,\n 1885,\n 1890,\n 1905,\n 1929,\n 1935,\n 1936,\n 1937,\n 1948,\n 1956,\n 1957,\n 1960,\n 1967,\n 1973,\n 1994,\n 2002,\n 2053,\n 2054,\n 2080,\n 2081,\n 2083,\n 2092,\n 2099,\n 2112,\n 2116,\n 2118,\n 2140,\n 2148,\n 2163,\n 2184,\n 2193,\n 2216,\n 2227,\n 2249,\n 2255,\n 2264,\n 2271,\n 2279,\n 2280,\n 2293,\n 2307,\n 2309,\n 2312,\n 2317,\n 2324,\n 2329,\n 2331,\n 2336,\n 2340,\n 2372,\n 2393,\n 2397,\n 2408,\n 2430,\n 2442,\n 2444,\n 2447,\n 2475,\n 2494,\n 2500,\n 2506,\n 2525,\n 2536,\n 2548,\n 2563,\n 2571,\n 2573,\n 2579,\n 2621,\n 2690,\n 2693,\n 2727,\n 2734,\n 2757,\n 2775,\n 2798,\n 2804,\n 2831,\n 2860,\n 2879,\n 2885,\n 2896,\n 2914,\n 2936,\n 2939,\n 2984,\n 3006,\n 3008,\n 3009,\n 3022,\n 3056,\n 3076,\n 3089,\n 3092,\n 3145,\n 3151,\n 3161,\n 3164,\n 3166,\n 3186,\n 3204,\n 3212,\n 3235,\n 3301,\n 3316,\n 3336,\n 3366,\n 3368,\n 3376,\n 3393,\n 3395,\n 3400,\n 3403,\n 3404,\n 3414,\n 3424,\n 3426,\n 3432,\n 3434,\n 3445,\n 3447,\n 3485,\n 3490,\n 3495,\n 3502,\n 3531,\n 3539,\n 3602,\n 3613,\n 3629,\n 3632,\n 3635,\n 3673,\n 3723,\n 3756,\n 3767,\n 3790,\n 3805,\n 3816,\n 3845,\n 3850,\n 3863,\n 3896,\n 3955,\n 3983,\n 3991,\n 3993,\n 4000,\n 4005,\n 4053,\n 4059,\n 4060,\n 4077,\n 4081,\n 4099,\n 4122,\n 4125,\n 4127,\n 4139,\n 4161,\n 4176,\n 4196,\n 4203,\n 4220,\n 4234,\n 4252,\n 4263,\n 4275,\n 4287,\n 4313,\n 4320,\n 4325,\n 4339,\n 4365,\n 4394,\n 4403,\n 4406,\n 4411,\n 4416,\n 4441,\n 4481,\n 4482,\n 4488,\n 4490,\n 4494,\n 4500,\n 4517,\n 4521,\n 4540,\n 4570,\n 4590,\n 4602,\n 4604,\n 4608,\n 4611,\n 4618,\n 4621,\n 4653,\n 4665,\n 4670,\n 4709,\n 4721,\n 4739,\n 4746,\n 4750,\n 4775,\n 4786,\n 4794,\n 4828,\n 4874,\n 4878,\n 4886,\n 4889,\n 4890,\n 4905,\n 4909,\n 4922,\n 4923,\n 4929,\n 4938,\n 4939,\n 4948,\n 4966,\n 4969,\n 4977,\n 5001,\n 5002,\n 5005,\n 5016,\n 5019,\n 5022,\n 5023,\n 5032,\n 5040,\n 5045,\n 5046,\n 5049,\n 5065,\n 5071,\n 5073,\n 5082,\n 5088,\n 5094,\n 5109,\n 5121,\n 5133,\n 5137,\n 5139,\n 5144,\n 5166,\n 5173,\n 5178,\n 5185,\n 5210,\n 5242,\n 5246,\n 5251,\n 5265,\n 5267,\n 5278,\n 5290,\n 5297,\n 5300,\n 5316,\n 5323,\n 5326,\n 5328,\n 5329,\n 5330,\n 5331,\n 5332,\n 5333,\n 5348,\n 5356,\n 5359,\n 5378,\n 5386,\n 5387,\n 5401,\n 5413,\n 5416,\n 5419,\n 5423,\n 5426,\n 5432,\n 5438,\n 5439,\n 5443,\n 5456,\n 5466,\n 5489,\n 5490,\n 5492,\n 5497,\n 5498,\n 5504,\n 5507,\n 5510,\n 5525,\n 5550,\n 5559,\n 5561,\n 5576,\n 5592,\n 5596,\n 5610,\n 5617,\n 5618,\n 5632,\n 5635,\n 5640,\n 5642,\n 5655,\n 5661,\n 5675,\n 5678,\n 5684,\n 5685,\n 5687,\n 5691,\n 5692,\n 5701,\n 5712,\n 5721,\n 5722,\n 5731,\n 5749,\n 5761,\n 5775,\n 5781,\n 5789,\n 5796,\n 5803,\n 5813,\n 5814,\n 5817,\n 5827,\n 5861,\n 5863,\n 5866,\n 5870,\n 5872,\n 5878,\n 5879,\n 5881,\n 5887,\n 5923,\n 5928,\n 5931,\n 5938,\n 5943,\n 5945,\n 5957,\n 5960,\n 5975,\n 5977,\n 5987,\n 5989,\n 5991,\n 6009,\n 6021,\n 6025,\n 6026,\n 6027,\n 6029,\n 6031,\n 6071,\n 6074,\n 6083,\n 6085,\n 6087,\n 6090,\n 6107,\n 6116,\n 6117,\n 6121,\n 6136,\n 6142,\n 6152,\n 6165,\n 6182,\n 6188,\n 6211,\n 6220,\n 6223,\n 6225,\n 6234,\n 6236,\n 6244,\n 6254,\n 6255,\n 6259,\n 6262,\n 6265,\n 6270,\n 6271,\n 6279,\n 6287,\n 6291,\n 6303,\n 6304,\n 6305,\n 6306,\n 6308,\n 6314,\n 6316,\n 6317,\n 6333,\n 6338,\n 6353,\n 6355,\n 6366,\n 6369,\n 6370,\n 6395,\n 6398,\n 6400,\n 6402,\n 6403,\n 6420,\n 6437,\n 6438,\n 6439,\n 6441,\n 6445,\n 6446,\n 6453,\n 6455,\n 6472,\n 6475,\n 6479,\n 6486,\n 6506,\n 6509,\n 6510,\n 6520,\n 6524,\n 6528,\n 6535,\n 6539,\n 6542,\n 6552,\n 6556,\n 6564,\n 6572,\n 6576,\n 6577,\n 6578,\n 6586,\n 6588,\n 6593,\n 6594,\n 6595,\n 6600,\n 6609,\n 6611,\n 6617,\n 6629,\n 6630,\n 6652,\n 6656,\n 6659,\n 6680,\n 6682,\n 6692,\n 6699,\n 6701,\n 6703,\n 6704,\n 6705,\n 6708,\n 6709,\n 6715,\n 6718,\n 6719,\n 6721,\n 6724,\n 6732,\n 6740,\n 6746,\n 6750,\n 6757,\n 6760,\n 6761,\n 6762,\n 6765,\n 6769,\n 6770,\n 6775,\n 6778,\n 6780,\n 6783,\n 6786,\n 6790,\n 6792,\n 6804,\n 6805,\n 6807,\n 6808,\n 6811,\n 6814,\n 6821,\n 6826,\n 6829,\n 6831,\n 6832,\n 6838,\n 6850,\n 6855,\n 6856,\n 6859,\n 6862,\n 6864,\n 6865,\n 6867,\n 6868,\n 6869,\n 6873,\n 6876,\n 6879,\n 6884,\n 6887,\n 6892,\n 6895,\n 6898,\n 6901,\n 6903,\n 6906,\n 6909,\n 6910,\n 6915,\n 6917,\n 6918,\n 6919,\n 6920,\n 6924,\n 6925,\n 6932,\n 6935,\n 6936,\n 6945,\n 6949,\n 6953,\n 6956,\n 6957,\n 6958,\n 6959,\n 6964,\n 6973,\n 6976,\n 6979,\n 6982,\n 6983,\n 6984,\n 6987,\n 6990,\n 6991,\n 6994,\n 6995,\n 6996,\n 6997,\n 6998,\n 7000,\n 7001,\n 7009,\n 7016,\n 7020,\n 7021,\n 7023,\n 7029,\n 7032,\n 7033,\n 7034,\n 7035,\n 7047,\n 7049,\n 7050,\n 7052,\n 7053,\n 7058,\n 7059,\n 7063,\n 7065,\n 7069,\n 7070,\n 7071,\n 7072,\n 7079,\n 7083,\n 7087,\n 7088,\n 7089,\n 7096,\n 7097,\n 7099,\n 7102,\n 7107,\n 7108,\n 7109,\n 7113,\n 7122,\n 7125,\n 7131,\n 7138,\n 7142,\n 7143,\n 7149,\n 7150,\n 7152,\n 7154,\n 7158,\n 7159,\n 7160,\n 7161,\n 7163,\n 7165,\n 7166,\n 7170,\n 7174,\n 7177,\n 7179,\n 7180,\n 7181,\n 7182,\n 7183,\n 7185,\n 7187,\n 7190,\n 7191,\n 7193,\n 7194,\n 7196,\n 7200,\n 7202,\n 7203,\n 7204,\n 7205,\n 7206,\n 7207,\n 7210,\n 7211,\n 7214,\n 7215,\n 7216,\n 7217}"
      ]
     },
     "execution_count": 182,
     "metadata": {},
     "output_type": "execute_result"
    }
   ],
   "source": [
    "visited_nodes"
   ]
  },
  {
   "cell_type": "code",
   "execution_count": 98,
   "metadata": {},
   "outputs": [],
   "source": []
  },
  {
   "cell_type": "code",
   "execution_count": 183,
   "metadata": {},
   "outputs": [],
   "source": [
    "path = []\n",
    "pick_time_first = 10 + distance_matrix([start_position], pick_coordinates, p=1).reshape((-1,))\n",
    "drop_time_first = pick_time_first + time_from_start_to_end\n",
    "metric_first = money - (pick_time_first + drop_time_first) * 2"
   ]
  },
  {
   "cell_type": "code",
   "execution_count": 184,
   "metadata": {},
   "outputs": [],
   "source": [
    "current_time = 360\n",
    "sorted_metric = np.argsort(metric_first)[::-1]"
   ]
  },
  {
   "cell_type": "code",
   "execution_count": 185,
   "metadata": {},
   "outputs": [],
   "source": [
    "# first step\n",
    "for j, id_ in enumerate(sorted_metric):\n",
    "    pick_time = current_time + pick_time_first[id_]\n",
    "    drop_time = current_time + drop_time_first[id_]\n",
    "    if metric_first[id_] < -10:\n",
    "        break\n",
    "    if  pick_from[id_] < pick_time < pick_to[id_] and drop_from[id_] < drop_time < drop_to[id_]:\n",
    "        path.append(id_)\n",
    "        current_time = drop_time\n",
    "        metric_from_ends_to_end[:, id_] = -10e5\n",
    "        break"
   ]
  },
  {
   "cell_type": "code",
   "execution_count": 186,
   "metadata": {},
   "outputs": [
    {
     "data": {
      "text/plain": [
       "424"
      ]
     },
     "execution_count": 186,
     "metadata": {},
     "output_type": "execute_result"
    }
   ],
   "source": [
    "current_time"
   ]
  },
  {
   "cell_type": "code",
   "execution_count": 187,
   "metadata": {},
   "outputs": [],
   "source": [
    "STOP = False\n",
    "while not STOP:\n",
    "    current_metric_array = metric_from_ends_to_end[path[-1], :]\n",
    "    sorted_metric = np.argsort(current_metric_array)[::-1]\n",
    "    for j, id_ in enumerate(sorted_metric):\n",
    "        pick_time = current_time + time_from_ends_to_starts[path[-1]][id_]\n",
    "        drop_time = pick_time + time_from_start_to_end[id_]\n",
    "        if  current_metric_array[id_] < -10 or current_time >=1439:\n",
    "            STOP = True\n",
    "        if  pick_from[id_] < pick_time < pick_to[id_] and drop_from[id_] < drop_time < drop_to[id_]:\n",
    "            path.append(id_)\n",
    "            current_time = drop_time\n",
    "            metric_from_ends_to_end[:, id_] = -10e5\n",
    "            break"
   ]
  },
  {
   "cell_type": "code",
   "execution_count": 103,
   "metadata": {},
   "outputs": [
    {
     "data": {
      "text/plain": [
       "[962, 1534, 2961, 3188, 6382, 213]"
      ]
     },
     "execution_count": 103,
     "metadata": {},
     "output_type": "execute_result"
    }
   ],
   "source": [
    "path"
   ]
  },
  {
   "cell_type": "code",
   "execution_count": 104,
   "metadata": {},
   "outputs": [
    {
     "data": {
      "text/plain": [
       "([962, 1534, 2961, 3188, 6382, 213], 1129.0)"
      ]
     },
     "execution_count": 104,
     "metadata": {},
     "output_type": "execute_result"
    }
   ],
   "source": [
    "path, current_time"
   ]
  },
  {
   "cell_type": "code",
   "execution_count": 105,
   "metadata": {},
   "outputs": [],
   "source": [
    "a = set([1,2,3])"
   ]
  },
  {
   "cell_type": "code",
   "execution_count": 106,
   "metadata": {},
   "outputs": [],
   "source": [
    "b = set([5,3,2])"
   ]
  },
  {
   "cell_type": "code",
   "execution_count": 107,
   "metadata": {},
   "outputs": [],
   "source": [
    "a = a | b"
   ]
  },
  {
   "cell_type": "code",
   "execution_count": 108,
   "metadata": {},
   "outputs": [
    {
     "data": {
      "text/plain": [
       "{1, 2, 3, 5}"
      ]
     },
     "execution_count": 108,
     "metadata": {},
     "output_type": "execute_result"
    }
   ],
   "source": [
    "a"
   ]
  },
  {
   "cell_type": "code",
   "execution_count": 109,
   "metadata": {},
   "outputs": [],
   "source": []
  },
  {
   "cell_type": "code",
   "execution_count": 109,
   "metadata": {},
   "outputs": [],
   "source": []
  },
  {
   "cell_type": "code",
   "execution_count": 109,
   "metadata": {},
   "outputs": [],
   "source": [
    "for i in range(10):\n",
    "    sorted_metric = np.argsort(metric_from_ends_to_end[path[-1], :])\n",
    "    for j, id_ in enumerate(sorted_metric):\n",
    "        pick_time = current_time + time_from_ends_to_starts[path[-1]][id_]\n",
    "        drop_time = pick_time + time_from_start_to_end[id_]\n",
    "        if pick_time < pick_to[id_] and drop_time < drop_to[id_]:\n",
    "            path.append(id_)\n",
    "            current_time = drop_time\n",
    "            metric_from_ends_to_end[:, next_step] = 0\n",
    "            continue\n",
    "        if j > 5000:\n",
    "            STOP = True # end of the day\n",
    "            break\n",
    "        \n",
    "    if STOP or current_time >= 1439:\n",
    "        break"
   ]
  },
  {
   "cell_type": "code",
   "execution_count": 54,
   "metadata": {},
   "outputs": [],
   "source": [
    "def greedy_courier(start_position, visited_ids=set()):\n",
    "    \"\"\"\n",
    "    start_position: (x,y)\n",
    "    \"\"\"\n",
    "    path = []\n",
    "    first_time_matrix = 10 + distance_matrix([start_position], pick_coordinates, p=1) + time_from_start_to_end\n",
    "    metric_first = money / first_time_matrix.reshape((-1,1))"
   ]
  },
  {
   "cell_type": "code",
   "execution_count": 55,
   "metadata": {},
   "outputs": [
    {
     "ename": "ValueError",
     "evalue": "not enough values to unpack (expected 2, got 0)",
     "traceback": [
      "\u001b[0;31m---------------------------------------------------------------------------\u001b[0m",
      "\u001b[0;31mValueError\u001b[0m                                Traceback (most recent call last)",
      "\u001b[0;32m<ipython-input-55-7d5b1516887a>\u001b[0m in \u001b[0;36m<module>\u001b[0;34m\u001b[0m\n\u001b[0;32m----> 1\u001b[0;31m \u001b[0mdistance_matrix\u001b[0m\u001b[0;34m(\u001b[0m\u001b[0;34m[\u001b[0m\u001b[0;34m[\u001b[0m\u001b[0;36m1\u001b[0m\u001b[0;34m,\u001b[0m\u001b[0;36m2\u001b[0m\u001b[0;34m]\u001b[0m\u001b[0;34m]\u001b[0m\u001b[0;34m,\u001b[0m \u001b[0mb\u001b[0m\u001b[0;34m)\u001b[0m\u001b[0;34m\u001b[0m\u001b[0;34m\u001b[0m\u001b[0m\n\u001b[0m",
      "\u001b[0;32m/usr/local/lib/python3.7/site-packages/scipy/spatial/kdtree.py\u001b[0m in \u001b[0;36mdistance_matrix\u001b[0;34m(x, y, p, threshold)\u001b[0m\n\u001b[1;32m    970\u001b[0m     \u001b[0mm\u001b[0m\u001b[0;34m,\u001b[0m \u001b[0mk\u001b[0m \u001b[0;34m=\u001b[0m \u001b[0mx\u001b[0m\u001b[0;34m.\u001b[0m\u001b[0mshape\u001b[0m\u001b[0;34m\u001b[0m\u001b[0;34m\u001b[0m\u001b[0m\n\u001b[1;32m    971\u001b[0m     \u001b[0my\u001b[0m \u001b[0;34m=\u001b[0m \u001b[0mnp\u001b[0m\u001b[0;34m.\u001b[0m\u001b[0masarray\u001b[0m\u001b[0;34m(\u001b[0m\u001b[0my\u001b[0m\u001b[0;34m)\u001b[0m\u001b[0;34m\u001b[0m\u001b[0;34m\u001b[0m\u001b[0m\n\u001b[0;32m--> 972\u001b[0;31m     \u001b[0mn\u001b[0m\u001b[0;34m,\u001b[0m \u001b[0mkk\u001b[0m \u001b[0;34m=\u001b[0m \u001b[0my\u001b[0m\u001b[0;34m.\u001b[0m\u001b[0mshape\u001b[0m\u001b[0;34m\u001b[0m\u001b[0;34m\u001b[0m\u001b[0m\n\u001b[0m\u001b[1;32m    973\u001b[0m \u001b[0;34m\u001b[0m\u001b[0m\n\u001b[1;32m    974\u001b[0m     \u001b[0;32mif\u001b[0m \u001b[0mk\u001b[0m \u001b[0;34m!=\u001b[0m \u001b[0mkk\u001b[0m\u001b[0;34m:\u001b[0m\u001b[0;34m\u001b[0m\u001b[0;34m\u001b[0m\u001b[0m\n",
      "\u001b[0;31mValueError\u001b[0m: not enough values to unpack (expected 2, got 0)"
     ],
     "output_type": "error"
    }
   ],
   "source": [
    "distance_matrix([[1, 2]], b)"
   ]
  },
  {
   "cell_type": "code",
   "execution_count": 56,
   "metadata": {},
   "outputs": [
    {
     "ename": "AttributeError",
     "evalue": "'numpy.ndarray' object has no attribute 'values'",
     "traceback": [
      "\u001b[0;31m---------------------------------------------------------------------------\u001b[0m",
      "\u001b[0;31mAttributeError\u001b[0m                            Traceback (most recent call last)",
      "\u001b[0;32m<ipython-input-56-419cdd96234f>\u001b[0m in \u001b[0;36m<module>\u001b[0;34m\u001b[0m\n\u001b[0;32m----> 1\u001b[0;31m \u001b[0mpick_coordinates\u001b[0m\u001b[0;34m.\u001b[0m\u001b[0mvalues\u001b[0m\u001b[0;34m\u001b[0m\u001b[0;34m\u001b[0m\u001b[0m\n\u001b[0m",
      "\u001b[0;31mAttributeError\u001b[0m: 'numpy.ndarray' object has no attribute 'values'"
     ],
     "output_type": "error"
    }
   ],
   "source": [
    "pick_coordinates.values"
   ]
  },
  {
   "cell_type": "code",
   "execution_count": 57,
   "metadata": {},
   "outputs": [
    {
     "ename": "AttributeError",
     "evalue": "'numpy.ndarray' object has no attribute 'values'",
     "traceback": [
      "\u001b[0;31m---------------------------------------------------------------------------\u001b[0m",
      "\u001b[0;31mAttributeError\u001b[0m                            Traceback (most recent call last)",
      "\u001b[0;32m<ipython-input-57-c4cccf3bedcf>\u001b[0m in \u001b[0;36m<module>\u001b[0;34m\u001b[0m\n\u001b[0;32m----> 1\u001b[0;31m \u001b[0mdistance_matrix\u001b[0m\u001b[0;34m(\u001b[0m\u001b[0mnp\u001b[0m\u001b[0;34m.\u001b[0m\u001b[0marray\u001b[0m\u001b[0;34m(\u001b[0m\u001b[0;34m[\u001b[0m\u001b[0;34m[\u001b[0m\u001b[0;36m1\u001b[0m\u001b[0;34m,\u001b[0m\u001b[0;36m2\u001b[0m\u001b[0;34m]\u001b[0m\u001b[0;34m]\u001b[0m\u001b[0;34m)\u001b[0m\u001b[0;34m,\u001b[0m \u001b[0mpick_coordinates\u001b[0m\u001b[0;34m.\u001b[0m\u001b[0mvalues\u001b[0m\u001b[0;34m)\u001b[0m\u001b[0;34m\u001b[0m\u001b[0;34m\u001b[0m\u001b[0m\n\u001b[0m",
      "\u001b[0;31mAttributeError\u001b[0m: 'numpy.ndarray' object has no attribute 'values'"
     ],
     "output_type": "error"
    }
   ],
   "source": [
    "distance_matrix(np.array([[1,2]]), pick_coordinates.values)"
   ]
  },
  {
   "cell_type": "code",
   "execution_count": 58,
   "metadata": {},
   "outputs": [],
   "source": []
  },
  {
   "cell_type": "code",
   "execution_count": null,
   "metadata": {},
   "outputs": [],
   "source": []
  },
  {
   "cell_type": "code",
   "execution_count": null,
   "metadata": {},
   "outputs": [],
   "source": []
  },
  {
   "cell_type": "code",
   "execution_count": null,
   "metadata": {},
   "outputs": [],
   "source": []
  },
  {
   "cell_type": "code",
   "execution_count": 113,
   "metadata": {},
   "outputs": [],
   "source": [
    "b = np.array([[1,2],[3,4]])"
   ]
  },
  {
   "cell_type": "code",
   "execution_count": 90,
   "metadata": {},
   "outputs": [
    {
     "data": {
      "text/plain": [
       "array([[2, 4],\n",
       "       [4, 6]])"
      ]
     },
     "execution_count": 90,
     "metadata": {},
     "output_type": "execute_result"
    }
   ],
   "source": [
    "a + b"
   ]
  },
  {
   "cell_type": "code",
   "execution_count": 91,
   "metadata": {},
   "outputs": [
    {
     "data": {
      "text/plain": [
       "(2,)"
      ]
     },
     "execution_count": 91,
     "metadata": {},
     "output_type": "execute_result"
    }
   ],
   "source": [
    "a.shape"
   ]
  },
  {
   "cell_type": "code",
   "execution_count": 92,
   "metadata": {},
   "outputs": [
    {
     "data": {
      "text/plain": [
       "(2, 2)"
      ]
     },
     "execution_count": 92,
     "metadata": {},
     "output_type": "execute_result"
    }
   ],
   "source": [
    "b.shape"
   ]
  },
  {
   "cell_type": "code",
   "execution_count": null,
   "metadata": {},
   "outputs": [],
   "source": []
  },
  {
   "cell_type": "code",
   "execution_count": null,
   "metadata": {},
   "outputs": [],
   "source": []
  },
  {
   "cell_type": "code",
   "execution_count": null,
   "metadata": {},
   "outputs": [],
   "source": [
    "for i, end_row in tqdm(orders.iterrows()):\n",
    "    for j, begin_row in orders.iterrows():\n",
    "        if i == j:\n",
    "            time_spend = 10e6 \n",
    "        time_spend = 10 + manh_distance(end_row.dropoff_location_x, end_row.dropoff_location_y,\n",
    "                                       begin_row.pickup_location_x, begin_row.pickup_location_y) \\\n",
    "                          + 10 \\\n",
    "                          + manh_distance(begin_row.pickup_location_x, begin_row.pickup_location_y,\n",
    "                                         begin_row.dropoff_location_x, begin_row.dropoff_location_y)\n",
    "        end2start = begin_row.payment / time_spend"
   ]
  },
  {
   "cell_type": "code",
   "execution_count": 65,
   "metadata": {},
   "outputs": [
    {
     "data": {
      "text/plain": [
       "array([[1, 2],\n",
       "       [2, 1]])"
      ]
     },
     "execution_count": 65,
     "metadata": {},
     "output_type": "execute_result"
    }
   ],
   "source": [
    "\n",
    "distance_matrix([[0,0],[0,1]], [[1,0],[1,1]],p=1)"
   ]
  },
  {
   "cell_type": "code",
   "execution_count": 64,
   "metadata": {},
   "outputs": [
    {
     "data": {
      "text/plain": [
       "(array([[0, 0],\n",
       "        [0, 1]]), array([[1, 0],\n",
       "        [1, 1]]))"
      ]
     },
     "execution_count": 64,
     "metadata": {},
     "output_type": "execute_result"
    }
   ],
   "source": [
    "np.array([[0,0],[0,1]]), np.array([[1,0],[1,1]])"
   ]
  },
  {
   "cell_type": "code",
   "execution_count": 53,
   "metadata": {},
   "outputs": [
    {
     "name": "stdout",
     "output_type": "stream",
     "text": [
      "dropoff_from            600\n",
      "dropoff_location_x      252\n",
      "dropoff_location_y      197\n",
      "dropoff_point_id      60001\n",
      "dropoff_to              960\n",
      "order_id              10001\n",
      "payment                 313\n",
      "pickup_from             480\n",
      "pickup_location_x       284\n",
      "pickup_location_y       235\n",
      "pickup_point_id       40001\n",
      "pickup_to               570\n",
      "spent_time               80\n",
      "Name: 0, dtype: int64\n"
     ]
    }
   ],
   "source": [
    "for i, end_row in orders.iterrows():\n",
    "    print(end_row)\n",
    "    break"
   ]
  },
  {
   "cell_type": "code",
   "execution_count": null,
   "metadata": {},
   "outputs": [],
   "source": []
  },
  {
   "cell_type": "code",
   "execution_count": 57,
   "metadata": {},
   "outputs": [
    {
     "data": {
      "text/html": [
       "<div>\n",
       "<style scoped>\n",
       "    .dataframe tbody tr th:only-of-type {\n",
       "        vertical-align: middle;\n",
       "    }\n",
       "\n",
       "    .dataframe tbody tr th {\n",
       "        vertical-align: top;\n",
       "    }\n",
       "\n",
       "    .dataframe thead th {\n",
       "        text-align: right;\n",
       "    }\n",
       "</style>\n",
       "<table border=\"1\" class=\"dataframe\">\n",
       "  <thead>\n",
       "    <tr style=\"text-align: right;\">\n",
       "      <th></th>\n",
       "      <th>dropoff_from</th>\n",
       "      <th>dropoff_location_x</th>\n",
       "      <th>dropoff_location_y</th>\n",
       "      <th>dropoff_point_id</th>\n",
       "      <th>dropoff_to</th>\n",
       "      <th>order_id</th>\n",
       "      <th>payment</th>\n",
       "      <th>pickup_from</th>\n",
       "      <th>pickup_location_x</th>\n",
       "      <th>pickup_location_y</th>\n",
       "      <th>pickup_point_id</th>\n",
       "      <th>pickup_to</th>\n",
       "      <th>spent_distance</th>\n",
       "      <th>spent_time</th>\n",
       "    </tr>\n",
       "  </thead>\n",
       "  <tbody>\n",
       "    <tr>\n",
       "      <th>0</th>\n",
       "      <td>600</td>\n",
       "      <td>252</td>\n",
       "      <td>197</td>\n",
       "      <td>60001</td>\n",
       "      <td>960</td>\n",
       "      <td>10001</td>\n",
       "      <td>313</td>\n",
       "      <td>480</td>\n",
       "      <td>284</td>\n",
       "      <td>235</td>\n",
       "      <td>40001</td>\n",
       "      <td>570</td>\n",
       "      <td>70</td>\n",
       "      <td>80</td>\n",
       "    </tr>\n",
       "    <tr>\n",
       "      <th>1</th>\n",
       "      <td>630</td>\n",
       "      <td>24</td>\n",
       "      <td>105</td>\n",
       "      <td>60002</td>\n",
       "      <td>660</td>\n",
       "      <td>10002</td>\n",
       "      <td>519</td>\n",
       "      <td>420</td>\n",
       "      <td>244</td>\n",
       "      <td>262</td>\n",
       "      <td>40002</td>\n",
       "      <td>450</td>\n",
       "      <td>377</td>\n",
       "      <td>387</td>\n",
       "    </tr>\n",
       "    <tr>\n",
       "      <th>2</th>\n",
       "      <td>1050</td>\n",
       "      <td>115</td>\n",
       "      <td>38</td>\n",
       "      <td>60003</td>\n",
       "      <td>1080</td>\n",
       "      <td>10003</td>\n",
       "      <td>380</td>\n",
       "      <td>390</td>\n",
       "      <td>225</td>\n",
       "      <td>141</td>\n",
       "      <td>40003</td>\n",
       "      <td>1020</td>\n",
       "      <td>213</td>\n",
       "      <td>223</td>\n",
       "    </tr>\n",
       "    <tr>\n",
       "      <th>3</th>\n",
       "      <td>420</td>\n",
       "      <td>236</td>\n",
       "      <td>165</td>\n",
       "      <td>60004</td>\n",
       "      <td>450</td>\n",
       "      <td>10004</td>\n",
       "      <td>302</td>\n",
       "      <td>300</td>\n",
       "      <td>233</td>\n",
       "      <td>108</td>\n",
       "      <td>40004</td>\n",
       "      <td>330</td>\n",
       "      <td>60</td>\n",
       "      <td>70</td>\n",
       "    </tr>\n",
       "    <tr>\n",
       "      <th>4</th>\n",
       "      <td>840</td>\n",
       "      <td>12</td>\n",
       "      <td>101</td>\n",
       "      <td>60005</td>\n",
       "      <td>870</td>\n",
       "      <td>10005</td>\n",
       "      <td>482</td>\n",
       "      <td>300</td>\n",
       "      <td>233</td>\n",
       "      <td>108</td>\n",
       "      <td>40005</td>\n",
       "      <td>780</td>\n",
       "      <td>228</td>\n",
       "      <td>238</td>\n",
       "    </tr>\n",
       "  </tbody>\n",
       "</table>\n",
       "</div>"
      ],
      "text/plain": [
       "   dropoff_from  dropoff_location_x  dropoff_location_y  dropoff_point_id  \\\n",
       "0           600                 252                 197             60001   \n",
       "1           630                  24                 105             60002   \n",
       "2          1050                 115                  38             60003   \n",
       "3           420                 236                 165             60004   \n",
       "4           840                  12                 101             60005   \n",
       "\n",
       "   dropoff_to  order_id  payment  pickup_from  pickup_location_x  \\\n",
       "0         960     10001      313          480                284   \n",
       "1         660     10002      519          420                244   \n",
       "2        1080     10003      380          390                225   \n",
       "3         450     10004      302          300                233   \n",
       "4         870     10005      482          300                233   \n",
       "\n",
       "   pickup_location_y  pickup_point_id  pickup_to  spent_distance  spent_time  \n",
       "0                235            40001        570              70          80  \n",
       "1                262            40002        450             377         387  \n",
       "2                141            40003       1020             213         223  \n",
       "3                108            40004        330              60          70  \n",
       "4                108            40005        780             228         238  "
      ]
     },
     "execution_count": 57,
     "metadata": {},
     "output_type": "execute_result"
    }
   ],
   "source": [
    "orders[:5]"
   ]
  },
  {
   "cell_type": "code",
   "execution_count": 55,
   "metadata": {},
   "outputs": [
    {
     "data": {
      "text/plain": [
       "384"
      ]
     },
     "execution_count": 55,
     "metadata": {},
     "output_type": "execute_result"
    }
   ],
   "source": [
    "pick_x.max()"
   ]
  },
  {
   "cell_type": "code",
   "execution_count": null,
   "metadata": {},
   "outputs": [],
   "source": []
  },
  {
   "cell_type": "code",
   "execution_count": 56,
   "metadata": {},
   "outputs": [
    {
     "data": {
      "text/html": [
       "<div>\n",
       "<style scoped>\n",
       "    .dataframe tbody tr th:only-of-type {\n",
       "        vertical-align: middle;\n",
       "    }\n",
       "\n",
       "    .dataframe tbody tr th {\n",
       "        vertical-align: top;\n",
       "    }\n",
       "\n",
       "    .dataframe thead th {\n",
       "        text-align: right;\n",
       "    }\n",
       "</style>\n",
       "<table border=\"1\" class=\"dataframe\">\n",
       "  <thead>\n",
       "    <tr style=\"text-align: right;\">\n",
       "      <th></th>\n",
       "      <th>dropoff_from</th>\n",
       "      <th>dropoff_location_x</th>\n",
       "      <th>dropoff_location_y</th>\n",
       "      <th>dropoff_point_id</th>\n",
       "      <th>dropoff_to</th>\n",
       "      <th>order_id</th>\n",
       "      <th>payment</th>\n",
       "      <th>pickup_from</th>\n",
       "      <th>pickup_location_x</th>\n",
       "      <th>pickup_location_y</th>\n",
       "      <th>pickup_point_id</th>\n",
       "      <th>pickup_to</th>\n",
       "      <th>spent_distance</th>\n",
       "      <th>spent_time</th>\n",
       "    </tr>\n",
       "  </thead>\n",
       "  <tbody>\n",
       "    <tr>\n",
       "      <th>0</th>\n",
       "      <td>600</td>\n",
       "      <td>252</td>\n",
       "      <td>197</td>\n",
       "      <td>60001</td>\n",
       "      <td>960</td>\n",
       "      <td>10001</td>\n",
       "      <td>313</td>\n",
       "      <td>480</td>\n",
       "      <td>284</td>\n",
       "      <td>235</td>\n",
       "      <td>40001</td>\n",
       "      <td>570</td>\n",
       "      <td>70</td>\n",
       "      <td>80</td>\n",
       "    </tr>\n",
       "    <tr>\n",
       "      <th>1</th>\n",
       "      <td>630</td>\n",
       "      <td>24</td>\n",
       "      <td>105</td>\n",
       "      <td>60002</td>\n",
       "      <td>660</td>\n",
       "      <td>10002</td>\n",
       "      <td>519</td>\n",
       "      <td>420</td>\n",
       "      <td>244</td>\n",
       "      <td>262</td>\n",
       "      <td>40002</td>\n",
       "      <td>450</td>\n",
       "      <td>377</td>\n",
       "      <td>387</td>\n",
       "    </tr>\n",
       "    <tr>\n",
       "      <th>2</th>\n",
       "      <td>1050</td>\n",
       "      <td>115</td>\n",
       "      <td>38</td>\n",
       "      <td>60003</td>\n",
       "      <td>1080</td>\n",
       "      <td>10003</td>\n",
       "      <td>380</td>\n",
       "      <td>390</td>\n",
       "      <td>225</td>\n",
       "      <td>141</td>\n",
       "      <td>40003</td>\n",
       "      <td>1020</td>\n",
       "      <td>213</td>\n",
       "      <td>223</td>\n",
       "    </tr>\n",
       "    <tr>\n",
       "      <th>3</th>\n",
       "      <td>420</td>\n",
       "      <td>236</td>\n",
       "      <td>165</td>\n",
       "      <td>60004</td>\n",
       "      <td>450</td>\n",
       "      <td>10004</td>\n",
       "      <td>302</td>\n",
       "      <td>300</td>\n",
       "      <td>233</td>\n",
       "      <td>108</td>\n",
       "      <td>40004</td>\n",
       "      <td>330</td>\n",
       "      <td>60</td>\n",
       "      <td>70</td>\n",
       "    </tr>\n",
       "    <tr>\n",
       "      <th>4</th>\n",
       "      <td>840</td>\n",
       "      <td>12</td>\n",
       "      <td>101</td>\n",
       "      <td>60005</td>\n",
       "      <td>870</td>\n",
       "      <td>10005</td>\n",
       "      <td>482</td>\n",
       "      <td>300</td>\n",
       "      <td>233</td>\n",
       "      <td>108</td>\n",
       "      <td>40005</td>\n",
       "      <td>780</td>\n",
       "      <td>228</td>\n",
       "      <td>238</td>\n",
       "    </tr>\n",
       "    <tr>\n",
       "      <th>5</th>\n",
       "      <td>330</td>\n",
       "      <td>179</td>\n",
       "      <td>128</td>\n",
       "      <td>60006</td>\n",
       "      <td>360</td>\n",
       "      <td>10006</td>\n",
       "      <td>298</td>\n",
       "      <td>240</td>\n",
       "      <td>233</td>\n",
       "      <td>108</td>\n",
       "      <td>40006</td>\n",
       "      <td>270</td>\n",
       "      <td>74</td>\n",
       "      <td>84</td>\n",
       "    </tr>\n",
       "    <tr>\n",
       "      <th>6</th>\n",
       "      <td>600</td>\n",
       "      <td>280</td>\n",
       "      <td>142</td>\n",
       "      <td>60007</td>\n",
       "      <td>660</td>\n",
       "      <td>10007</td>\n",
       "      <td>521</td>\n",
       "      <td>480</td>\n",
       "      <td>47</td>\n",
       "      <td>78</td>\n",
       "      <td>40007</td>\n",
       "      <td>540</td>\n",
       "      <td>297</td>\n",
       "      <td>307</td>\n",
       "    </tr>\n",
       "    <tr>\n",
       "      <th>7</th>\n",
       "      <td>420</td>\n",
       "      <td>193</td>\n",
       "      <td>112</td>\n",
       "      <td>60008</td>\n",
       "      <td>780</td>\n",
       "      <td>10008</td>\n",
       "      <td>337</td>\n",
       "      <td>360</td>\n",
       "      <td>241</td>\n",
       "      <td>203</td>\n",
       "      <td>40008</td>\n",
       "      <td>480</td>\n",
       "      <td>139</td>\n",
       "      <td>149</td>\n",
       "    </tr>\n",
       "    <tr>\n",
       "      <th>8</th>\n",
       "      <td>690</td>\n",
       "      <td>332</td>\n",
       "      <td>97</td>\n",
       "      <td>60009</td>\n",
       "      <td>720</td>\n",
       "      <td>10009</td>\n",
       "      <td>440</td>\n",
       "      <td>600</td>\n",
       "      <td>244</td>\n",
       "      <td>262</td>\n",
       "      <td>40009</td>\n",
       "      <td>630</td>\n",
       "      <td>253</td>\n",
       "      <td>263</td>\n",
       "    </tr>\n",
       "    <tr>\n",
       "      <th>9</th>\n",
       "      <td>480</td>\n",
       "      <td>293</td>\n",
       "      <td>70</td>\n",
       "      <td>60010</td>\n",
       "      <td>960</td>\n",
       "      <td>10010</td>\n",
       "      <td>500</td>\n",
       "      <td>420</td>\n",
       "      <td>114</td>\n",
       "      <td>48</td>\n",
       "      <td>40010</td>\n",
       "      <td>660</td>\n",
       "      <td>201</td>\n",
       "      <td>211</td>\n",
       "    </tr>\n",
       "    <tr>\n",
       "      <th>10</th>\n",
       "      <td>600</td>\n",
       "      <td>136</td>\n",
       "      <td>135</td>\n",
       "      <td>60011</td>\n",
       "      <td>840</td>\n",
       "      <td>10011</td>\n",
       "      <td>310</td>\n",
       "      <td>600</td>\n",
       "      <td>317</td>\n",
       "      <td>143</td>\n",
       "      <td>40011</td>\n",
       "      <td>840</td>\n",
       "      <td>189</td>\n",
       "      <td>199</td>\n",
       "    </tr>\n",
       "    <tr>\n",
       "      <th>11</th>\n",
       "      <td>480</td>\n",
       "      <td>209</td>\n",
       "      <td>10</td>\n",
       "      <td>60012</td>\n",
       "      <td>720</td>\n",
       "      <td>10012</td>\n",
       "      <td>372</td>\n",
       "      <td>480</td>\n",
       "      <td>217</td>\n",
       "      <td>145</td>\n",
       "      <td>40012</td>\n",
       "      <td>540</td>\n",
       "      <td>143</td>\n",
       "      <td>153</td>\n",
       "    </tr>\n",
       "    <tr>\n",
       "      <th>12</th>\n",
       "      <td>660</td>\n",
       "      <td>220</td>\n",
       "      <td>119</td>\n",
       "      <td>60013</td>\n",
       "      <td>720</td>\n",
       "      <td>10013</td>\n",
       "      <td>244</td>\n",
       "      <td>480</td>\n",
       "      <td>217</td>\n",
       "      <td>145</td>\n",
       "      <td>40013</td>\n",
       "      <td>540</td>\n",
       "      <td>29</td>\n",
       "      <td>39</td>\n",
       "    </tr>\n",
       "    <tr>\n",
       "      <th>13</th>\n",
       "      <td>750</td>\n",
       "      <td>167</td>\n",
       "      <td>155</td>\n",
       "      <td>60014</td>\n",
       "      <td>930</td>\n",
       "      <td>10014</td>\n",
       "      <td>155</td>\n",
       "      <td>480</td>\n",
       "      <td>161</td>\n",
       "      <td>153</td>\n",
       "      <td>40014</td>\n",
       "      <td>840</td>\n",
       "      <td>8</td>\n",
       "      <td>18</td>\n",
       "    </tr>\n",
       "    <tr>\n",
       "      <th>14</th>\n",
       "      <td>600</td>\n",
       "      <td>268</td>\n",
       "      <td>91</td>\n",
       "      <td>60015</td>\n",
       "      <td>780</td>\n",
       "      <td>10015</td>\n",
       "      <td>352</td>\n",
       "      <td>540</td>\n",
       "      <td>160</td>\n",
       "      <td>136</td>\n",
       "      <td>40015</td>\n",
       "      <td>570</td>\n",
       "      <td>153</td>\n",
       "      <td>163</td>\n",
       "    </tr>\n",
       "    <tr>\n",
       "      <th>15</th>\n",
       "      <td>510</td>\n",
       "      <td>199</td>\n",
       "      <td>128</td>\n",
       "      <td>60016</td>\n",
       "      <td>570</td>\n",
       "      <td>10016</td>\n",
       "      <td>284</td>\n",
       "      <td>450</td>\n",
       "      <td>211</td>\n",
       "      <td>118</td>\n",
       "      <td>40016</td>\n",
       "      <td>510</td>\n",
       "      <td>22</td>\n",
       "      <td>32</td>\n",
       "    </tr>\n",
       "    <tr>\n",
       "      <th>16</th>\n",
       "      <td>420</td>\n",
       "      <td>202</td>\n",
       "      <td>208</td>\n",
       "      <td>60017</td>\n",
       "      <td>660</td>\n",
       "      <td>10017</td>\n",
       "      <td>260</td>\n",
       "      <td>420</td>\n",
       "      <td>208</td>\n",
       "      <td>284</td>\n",
       "      <td>40017</td>\n",
       "      <td>660</td>\n",
       "      <td>82</td>\n",
       "      <td>92</td>\n",
       "    </tr>\n",
       "    <tr>\n",
       "      <th>17</th>\n",
       "      <td>480</td>\n",
       "      <td>120</td>\n",
       "      <td>232</td>\n",
       "      <td>60018</td>\n",
       "      <td>720</td>\n",
       "      <td>10018</td>\n",
       "      <td>370</td>\n",
       "      <td>420</td>\n",
       "      <td>222</td>\n",
       "      <td>210</td>\n",
       "      <td>40018</td>\n",
       "      <td>540</td>\n",
       "      <td>124</td>\n",
       "      <td>134</td>\n",
       "    </tr>\n",
       "    <tr>\n",
       "      <th>18</th>\n",
       "      <td>660</td>\n",
       "      <td>211</td>\n",
       "      <td>229</td>\n",
       "      <td>60019</td>\n",
       "      <td>780</td>\n",
       "      <td>10019</td>\n",
       "      <td>431</td>\n",
       "      <td>360</td>\n",
       "      <td>177</td>\n",
       "      <td>188</td>\n",
       "      <td>40019</td>\n",
       "      <td>420</td>\n",
       "      <td>75</td>\n",
       "      <td>85</td>\n",
       "    </tr>\n",
       "    <tr>\n",
       "      <th>19</th>\n",
       "      <td>420</td>\n",
       "      <td>150</td>\n",
       "      <td>159</td>\n",
       "      <td>60020</td>\n",
       "      <td>840</td>\n",
       "      <td>10020</td>\n",
       "      <td>291</td>\n",
       "      <td>420</td>\n",
       "      <td>266</td>\n",
       "      <td>75</td>\n",
       "      <td>40020</td>\n",
       "      <td>600</td>\n",
       "      <td>200</td>\n",
       "      <td>210</td>\n",
       "    </tr>\n",
       "    <tr>\n",
       "      <th>20</th>\n",
       "      <td>660</td>\n",
       "      <td>236</td>\n",
       "      <td>126</td>\n",
       "      <td>60021</td>\n",
       "      <td>810</td>\n",
       "      <td>10021</td>\n",
       "      <td>342</td>\n",
       "      <td>570</td>\n",
       "      <td>201</td>\n",
       "      <td>143</td>\n",
       "      <td>40021</td>\n",
       "      <td>600</td>\n",
       "      <td>52</td>\n",
       "      <td>62</td>\n",
       "    </tr>\n",
       "    <tr>\n",
       "      <th>21</th>\n",
       "      <td>540</td>\n",
       "      <td>273</td>\n",
       "      <td>113</td>\n",
       "      <td>60022</td>\n",
       "      <td>780</td>\n",
       "      <td>10022</td>\n",
       "      <td>302</td>\n",
       "      <td>540</td>\n",
       "      <td>343</td>\n",
       "      <td>109</td>\n",
       "      <td>40022</td>\n",
       "      <td>780</td>\n",
       "      <td>74</td>\n",
       "      <td>84</td>\n",
       "    </tr>\n",
       "    <tr>\n",
       "      <th>22</th>\n",
       "      <td>480</td>\n",
       "      <td>256</td>\n",
       "      <td>110</td>\n",
       "      <td>60023</td>\n",
       "      <td>720</td>\n",
       "      <td>10023</td>\n",
       "      <td>321</td>\n",
       "      <td>480</td>\n",
       "      <td>237</td>\n",
       "      <td>137</td>\n",
       "      <td>40023</td>\n",
       "      <td>720</td>\n",
       "      <td>46</td>\n",
       "      <td>56</td>\n",
       "    </tr>\n",
       "    <tr>\n",
       "      <th>23</th>\n",
       "      <td>720</td>\n",
       "      <td>274</td>\n",
       "      <td>110</td>\n",
       "      <td>60024</td>\n",
       "      <td>840</td>\n",
       "      <td>10024</td>\n",
       "      <td>513</td>\n",
       "      <td>390</td>\n",
       "      <td>82</td>\n",
       "      <td>14</td>\n",
       "      <td>40024</td>\n",
       "      <td>750</td>\n",
       "      <td>288</td>\n",
       "      <td>298</td>\n",
       "    </tr>\n",
       "    <tr>\n",
       "      <th>24</th>\n",
       "      <td>660</td>\n",
       "      <td>275</td>\n",
       "      <td>110</td>\n",
       "      <td>60025</td>\n",
       "      <td>900</td>\n",
       "      <td>10025</td>\n",
       "      <td>294</td>\n",
       "      <td>660</td>\n",
       "      <td>199</td>\n",
       "      <td>149</td>\n",
       "      <td>40025</td>\n",
       "      <td>900</td>\n",
       "      <td>115</td>\n",
       "      <td>125</td>\n",
       "    </tr>\n",
       "    <tr>\n",
       "      <th>25</th>\n",
       "      <td>869</td>\n",
       "      <td>227</td>\n",
       "      <td>150</td>\n",
       "      <td>60026</td>\n",
       "      <td>420</td>\n",
       "      <td>10026</td>\n",
       "      <td>410</td>\n",
       "      <td>300</td>\n",
       "      <td>138</td>\n",
       "      <td>217</td>\n",
       "      <td>40026</td>\n",
       "      <td>360</td>\n",
       "      <td>156</td>\n",
       "      <td>166</td>\n",
       "    </tr>\n",
       "    <tr>\n",
       "      <th>26</th>\n",
       "      <td>480</td>\n",
       "      <td>317</td>\n",
       "      <td>57</td>\n",
       "      <td>60027</td>\n",
       "      <td>600</td>\n",
       "      <td>10027</td>\n",
       "      <td>468</td>\n",
       "      <td>420</td>\n",
       "      <td>164</td>\n",
       "      <td>16</td>\n",
       "      <td>40027</td>\n",
       "      <td>480</td>\n",
       "      <td>194</td>\n",
       "      <td>204</td>\n",
       "    </tr>\n",
       "    <tr>\n",
       "      <th>27</th>\n",
       "      <td>420</td>\n",
       "      <td>26</td>\n",
       "      <td>138</td>\n",
       "      <td>60028</td>\n",
       "      <td>840</td>\n",
       "      <td>10028</td>\n",
       "      <td>650</td>\n",
       "      <td>360</td>\n",
       "      <td>130</td>\n",
       "      <td>131</td>\n",
       "      <td>40028</td>\n",
       "      <td>600</td>\n",
       "      <td>111</td>\n",
       "      <td>121</td>\n",
       "    </tr>\n",
       "    <tr>\n",
       "      <th>28</th>\n",
       "      <td>420</td>\n",
       "      <td>280</td>\n",
       "      <td>256</td>\n",
       "      <td>60029</td>\n",
       "      <td>480</td>\n",
       "      <td>10029</td>\n",
       "      <td>480</td>\n",
       "      <td>390</td>\n",
       "      <td>172</td>\n",
       "      <td>100</td>\n",
       "      <td>40029</td>\n",
       "      <td>420</td>\n",
       "      <td>264</td>\n",
       "      <td>274</td>\n",
       "    </tr>\n",
       "    <tr>\n",
       "      <th>29</th>\n",
       "      <td>450</td>\n",
       "      <td>149</td>\n",
       "      <td>75</td>\n",
       "      <td>60030</td>\n",
       "      <td>540</td>\n",
       "      <td>10030</td>\n",
       "      <td>346</td>\n",
       "      <td>420</td>\n",
       "      <td>167</td>\n",
       "      <td>111</td>\n",
       "      <td>40030</td>\n",
       "      <td>450</td>\n",
       "      <td>54</td>\n",
       "      <td>64</td>\n",
       "    </tr>\n",
       "    <tr>\n",
       "      <th>...</th>\n",
       "      <td>...</td>\n",
       "      <td>...</td>\n",
       "      <td>...</td>\n",
       "      <td>...</td>\n",
       "      <td>...</td>\n",
       "      <td>...</td>\n",
       "      <td>...</td>\n",
       "      <td>...</td>\n",
       "      <td>...</td>\n",
       "      <td>...</td>\n",
       "      <td>...</td>\n",
       "      <td>...</td>\n",
       "      <td>...</td>\n",
       "      <td>...</td>\n",
       "    </tr>\n",
       "    <tr>\n",
       "      <th>7273</th>\n",
       "      <td>1058</td>\n",
       "      <td>208</td>\n",
       "      <td>7</td>\n",
       "      <td>67274</td>\n",
       "      <td>1170</td>\n",
       "      <td>17274</td>\n",
       "      <td>426</td>\n",
       "      <td>360</td>\n",
       "      <td>110</td>\n",
       "      <td>128</td>\n",
       "      <td>47274</td>\n",
       "      <td>1140</td>\n",
       "      <td>219</td>\n",
       "      <td>229</td>\n",
       "    </tr>\n",
       "    <tr>\n",
       "      <th>7274</th>\n",
       "      <td>1140</td>\n",
       "      <td>341</td>\n",
       "      <td>95</td>\n",
       "      <td>67275</td>\n",
       "      <td>1200</td>\n",
       "      <td>17275</td>\n",
       "      <td>441</td>\n",
       "      <td>420</td>\n",
       "      <td>230</td>\n",
       "      <td>132</td>\n",
       "      <td>47275</td>\n",
       "      <td>1140</td>\n",
       "      <td>148</td>\n",
       "      <td>158</td>\n",
       "    </tr>\n",
       "    <tr>\n",
       "      <th>7275</th>\n",
       "      <td>1110</td>\n",
       "      <td>248</td>\n",
       "      <td>199</td>\n",
       "      <td>67276</td>\n",
       "      <td>1230</td>\n",
       "      <td>17276</td>\n",
       "      <td>350</td>\n",
       "      <td>300</td>\n",
       "      <td>192</td>\n",
       "      <td>182</td>\n",
       "      <td>47276</td>\n",
       "      <td>1170</td>\n",
       "      <td>73</td>\n",
       "      <td>83</td>\n",
       "    </tr>\n",
       "    <tr>\n",
       "      <th>7276</th>\n",
       "      <td>1110</td>\n",
       "      <td>110</td>\n",
       "      <td>102</td>\n",
       "      <td>67277</td>\n",
       "      <td>1230</td>\n",
       "      <td>17277</td>\n",
       "      <td>468</td>\n",
       "      <td>420</td>\n",
       "      <td>240</td>\n",
       "      <td>268</td>\n",
       "      <td>47277</td>\n",
       "      <td>1170</td>\n",
       "      <td>296</td>\n",
       "      <td>306</td>\n",
       "    </tr>\n",
       "    <tr>\n",
       "      <th>7277</th>\n",
       "      <td>1065</td>\n",
       "      <td>227</td>\n",
       "      <td>156</td>\n",
       "      <td>67278</td>\n",
       "      <td>1170</td>\n",
       "      <td>17278</td>\n",
       "      <td>339</td>\n",
       "      <td>420</td>\n",
       "      <td>200</td>\n",
       "      <td>58</td>\n",
       "      <td>47278</td>\n",
       "      <td>1110</td>\n",
       "      <td>125</td>\n",
       "      <td>135</td>\n",
       "    </tr>\n",
       "    <tr>\n",
       "      <th>7278</th>\n",
       "      <td>1067</td>\n",
       "      <td>266</td>\n",
       "      <td>83</td>\n",
       "      <td>67279</td>\n",
       "      <td>1170</td>\n",
       "      <td>17279</td>\n",
       "      <td>166</td>\n",
       "      <td>330</td>\n",
       "      <td>268</td>\n",
       "      <td>78</td>\n",
       "      <td>47279</td>\n",
       "      <td>1140</td>\n",
       "      <td>7</td>\n",
       "      <td>17</td>\n",
       "    </tr>\n",
       "    <tr>\n",
       "      <th>7279</th>\n",
       "      <td>1170</td>\n",
       "      <td>311</td>\n",
       "      <td>5</td>\n",
       "      <td>67280</td>\n",
       "      <td>1200</td>\n",
       "      <td>17280</td>\n",
       "      <td>510</td>\n",
       "      <td>390</td>\n",
       "      <td>219</td>\n",
       "      <td>261</td>\n",
       "      <td>47280</td>\n",
       "      <td>1170</td>\n",
       "      <td>348</td>\n",
       "      <td>358</td>\n",
       "    </tr>\n",
       "    <tr>\n",
       "      <th>7280</th>\n",
       "      <td>1072</td>\n",
       "      <td>144</td>\n",
       "      <td>156</td>\n",
       "      <td>67281</td>\n",
       "      <td>1170</td>\n",
       "      <td>17281</td>\n",
       "      <td>427</td>\n",
       "      <td>360</td>\n",
       "      <td>134</td>\n",
       "      <td>114</td>\n",
       "      <td>47281</td>\n",
       "      <td>1140</td>\n",
       "      <td>52</td>\n",
       "      <td>62</td>\n",
       "    </tr>\n",
       "    <tr>\n",
       "      <th>7281</th>\n",
       "      <td>1073</td>\n",
       "      <td>189</td>\n",
       "      <td>99</td>\n",
       "      <td>67282</td>\n",
       "      <td>1200</td>\n",
       "      <td>17282</td>\n",
       "      <td>392</td>\n",
       "      <td>330</td>\n",
       "      <td>137</td>\n",
       "      <td>200</td>\n",
       "      <td>47282</td>\n",
       "      <td>1140</td>\n",
       "      <td>153</td>\n",
       "      <td>163</td>\n",
       "    </tr>\n",
       "    <tr>\n",
       "      <th>7282</th>\n",
       "      <td>1074</td>\n",
       "      <td>171</td>\n",
       "      <td>130</td>\n",
       "      <td>67283</td>\n",
       "      <td>1230</td>\n",
       "      <td>17283</td>\n",
       "      <td>411</td>\n",
       "      <td>390</td>\n",
       "      <td>350</td>\n",
       "      <td>141</td>\n",
       "      <td>47283</td>\n",
       "      <td>1170</td>\n",
       "      <td>190</td>\n",
       "      <td>200</td>\n",
       "    </tr>\n",
       "    <tr>\n",
       "      <th>7283</th>\n",
       "      <td>1074</td>\n",
       "      <td>280</td>\n",
       "      <td>152</td>\n",
       "      <td>67284</td>\n",
       "      <td>1200</td>\n",
       "      <td>17284</td>\n",
       "      <td>419</td>\n",
       "      <td>420</td>\n",
       "      <td>104</td>\n",
       "      <td>91</td>\n",
       "      <td>47284</td>\n",
       "      <td>1140</td>\n",
       "      <td>237</td>\n",
       "      <td>247</td>\n",
       "    </tr>\n",
       "    <tr>\n",
       "      <th>7284</th>\n",
       "      <td>1074</td>\n",
       "      <td>224</td>\n",
       "      <td>240</td>\n",
       "      <td>67285</td>\n",
       "      <td>1230</td>\n",
       "      <td>17285</td>\n",
       "      <td>0</td>\n",
       "      <td>330</td>\n",
       "      <td>256</td>\n",
       "      <td>45</td>\n",
       "      <td>47285</td>\n",
       "      <td>1140</td>\n",
       "      <td>227</td>\n",
       "      <td>237</td>\n",
       "    </tr>\n",
       "    <tr>\n",
       "      <th>7285</th>\n",
       "      <td>1075</td>\n",
       "      <td>266</td>\n",
       "      <td>83</td>\n",
       "      <td>67286</td>\n",
       "      <td>1170</td>\n",
       "      <td>17286</td>\n",
       "      <td>166</td>\n",
       "      <td>420</td>\n",
       "      <td>268</td>\n",
       "      <td>78</td>\n",
       "      <td>47286</td>\n",
       "      <td>1140</td>\n",
       "      <td>7</td>\n",
       "      <td>17</td>\n",
       "    </tr>\n",
       "    <tr>\n",
       "      <th>7286</th>\n",
       "      <td>1078</td>\n",
       "      <td>246</td>\n",
       "      <td>160</td>\n",
       "      <td>67287</td>\n",
       "      <td>1200</td>\n",
       "      <td>17287</td>\n",
       "      <td>355</td>\n",
       "      <td>360</td>\n",
       "      <td>135</td>\n",
       "      <td>209</td>\n",
       "      <td>47287</td>\n",
       "      <td>1170</td>\n",
       "      <td>160</td>\n",
       "      <td>170</td>\n",
       "    </tr>\n",
       "    <tr>\n",
       "      <th>7287</th>\n",
       "      <td>1140</td>\n",
       "      <td>212</td>\n",
       "      <td>112</td>\n",
       "      <td>67288</td>\n",
       "      <td>1200</td>\n",
       "      <td>17288</td>\n",
       "      <td>335</td>\n",
       "      <td>300</td>\n",
       "      <td>177</td>\n",
       "      <td>167</td>\n",
       "      <td>47288</td>\n",
       "      <td>1170</td>\n",
       "      <td>90</td>\n",
       "      <td>100</td>\n",
       "    </tr>\n",
       "    <tr>\n",
       "      <th>7288</th>\n",
       "      <td>1140</td>\n",
       "      <td>213</td>\n",
       "      <td>62</td>\n",
       "      <td>67289</td>\n",
       "      <td>1170</td>\n",
       "      <td>17289</td>\n",
       "      <td>234</td>\n",
       "      <td>300</td>\n",
       "      <td>233</td>\n",
       "      <td>108</td>\n",
       "      <td>47289</td>\n",
       "      <td>1140</td>\n",
       "      <td>66</td>\n",
       "      <td>76</td>\n",
       "    </tr>\n",
       "    <tr>\n",
       "      <th>7289</th>\n",
       "      <td>1086</td>\n",
       "      <td>240</td>\n",
       "      <td>136</td>\n",
       "      <td>67290</td>\n",
       "      <td>1170</td>\n",
       "      <td>17290</td>\n",
       "      <td>340</td>\n",
       "      <td>300</td>\n",
       "      <td>267</td>\n",
       "      <td>51</td>\n",
       "      <td>47290</td>\n",
       "      <td>1140</td>\n",
       "      <td>112</td>\n",
       "      <td>122</td>\n",
       "    </tr>\n",
       "    <tr>\n",
       "      <th>7290</th>\n",
       "      <td>1088</td>\n",
       "      <td>222</td>\n",
       "      <td>186</td>\n",
       "      <td>67291</td>\n",
       "      <td>1178</td>\n",
       "      <td>17291</td>\n",
       "      <td>600</td>\n",
       "      <td>300</td>\n",
       "      <td>214</td>\n",
       "      <td>184</td>\n",
       "      <td>47291</td>\n",
       "      <td>1178</td>\n",
       "      <td>10</td>\n",
       "      <td>20</td>\n",
       "    </tr>\n",
       "    <tr>\n",
       "      <th>7291</th>\n",
       "      <td>1086</td>\n",
       "      <td>243</td>\n",
       "      <td>110</td>\n",
       "      <td>67292</td>\n",
       "      <td>1170</td>\n",
       "      <td>17292</td>\n",
       "      <td>248</td>\n",
       "      <td>390</td>\n",
       "      <td>288</td>\n",
       "      <td>53</td>\n",
       "      <td>47292</td>\n",
       "      <td>1170</td>\n",
       "      <td>102</td>\n",
       "      <td>112</td>\n",
       "    </tr>\n",
       "    <tr>\n",
       "      <th>7292</th>\n",
       "      <td>1140</td>\n",
       "      <td>104</td>\n",
       "      <td>98</td>\n",
       "      <td>67293</td>\n",
       "      <td>1200</td>\n",
       "      <td>17293</td>\n",
       "      <td>383</td>\n",
       "      <td>360</td>\n",
       "      <td>260</td>\n",
       "      <td>85</td>\n",
       "      <td>47293</td>\n",
       "      <td>1140</td>\n",
       "      <td>169</td>\n",
       "      <td>179</td>\n",
       "    </tr>\n",
       "    <tr>\n",
       "      <th>7293</th>\n",
       "      <td>1096</td>\n",
       "      <td>332</td>\n",
       "      <td>12</td>\n",
       "      <td>67294</td>\n",
       "      <td>1230</td>\n",
       "      <td>17294</td>\n",
       "      <td>416</td>\n",
       "      <td>360</td>\n",
       "      <td>262</td>\n",
       "      <td>189</td>\n",
       "      <td>47294</td>\n",
       "      <td>1140</td>\n",
       "      <td>247</td>\n",
       "      <td>257</td>\n",
       "    </tr>\n",
       "    <tr>\n",
       "      <th>7294</th>\n",
       "      <td>1140</td>\n",
       "      <td>132</td>\n",
       "      <td>97</td>\n",
       "      <td>67295</td>\n",
       "      <td>1200</td>\n",
       "      <td>17295</td>\n",
       "      <td>337</td>\n",
       "      <td>420</td>\n",
       "      <td>267</td>\n",
       "      <td>72</td>\n",
       "      <td>47295</td>\n",
       "      <td>1140</td>\n",
       "      <td>160</td>\n",
       "      <td>170</td>\n",
       "    </tr>\n",
       "    <tr>\n",
       "      <th>7295</th>\n",
       "      <td>1103</td>\n",
       "      <td>110</td>\n",
       "      <td>66</td>\n",
       "      <td>67296</td>\n",
       "      <td>1200</td>\n",
       "      <td>17296</td>\n",
       "      <td>224</td>\n",
       "      <td>300</td>\n",
       "      <td>101</td>\n",
       "      <td>101</td>\n",
       "      <td>47296</td>\n",
       "      <td>1170</td>\n",
       "      <td>44</td>\n",
       "      <td>54</td>\n",
       "    </tr>\n",
       "    <tr>\n",
       "      <th>7296</th>\n",
       "      <td>1105</td>\n",
       "      <td>101</td>\n",
       "      <td>101</td>\n",
       "      <td>67297</td>\n",
       "      <td>1200</td>\n",
       "      <td>17297</td>\n",
       "      <td>236</td>\n",
       "      <td>360</td>\n",
       "      <td>110</td>\n",
       "      <td>66</td>\n",
       "      <td>47297</td>\n",
       "      <td>1170</td>\n",
       "      <td>44</td>\n",
       "      <td>54</td>\n",
       "    </tr>\n",
       "    <tr>\n",
       "      <th>7297</th>\n",
       "      <td>1105</td>\n",
       "      <td>137</td>\n",
       "      <td>150</td>\n",
       "      <td>67298</td>\n",
       "      <td>1230</td>\n",
       "      <td>17298</td>\n",
       "      <td>470</td>\n",
       "      <td>360</td>\n",
       "      <td>358</td>\n",
       "      <td>169</td>\n",
       "      <td>47298</td>\n",
       "      <td>1140</td>\n",
       "      <td>240</td>\n",
       "      <td>250</td>\n",
       "    </tr>\n",
       "    <tr>\n",
       "      <th>7298</th>\n",
       "      <td>1108</td>\n",
       "      <td>156</td>\n",
       "      <td>226</td>\n",
       "      <td>67299</td>\n",
       "      <td>1230</td>\n",
       "      <td>17299</td>\n",
       "      <td>535</td>\n",
       "      <td>420</td>\n",
       "      <td>342</td>\n",
       "      <td>96</td>\n",
       "      <td>47299</td>\n",
       "      <td>1200</td>\n",
       "      <td>316</td>\n",
       "      <td>326</td>\n",
       "    </tr>\n",
       "    <tr>\n",
       "      <th>7299</th>\n",
       "      <td>1108</td>\n",
       "      <td>243</td>\n",
       "      <td>113</td>\n",
       "      <td>67300</td>\n",
       "      <td>1170</td>\n",
       "      <td>17300</td>\n",
       "      <td>238</td>\n",
       "      <td>330</td>\n",
       "      <td>196</td>\n",
       "      <td>112</td>\n",
       "      <td>47300</td>\n",
       "      <td>1140</td>\n",
       "      <td>48</td>\n",
       "      <td>58</td>\n",
       "    </tr>\n",
       "    <tr>\n",
       "      <th>7300</th>\n",
       "      <td>1108</td>\n",
       "      <td>63</td>\n",
       "      <td>126</td>\n",
       "      <td>67301</td>\n",
       "      <td>1200</td>\n",
       "      <td>17301</td>\n",
       "      <td>395</td>\n",
       "      <td>360</td>\n",
       "      <td>162</td>\n",
       "      <td>163</td>\n",
       "      <td>47301</td>\n",
       "      <td>1170</td>\n",
       "      <td>136</td>\n",
       "      <td>146</td>\n",
       "    </tr>\n",
       "    <tr>\n",
       "      <th>7301</th>\n",
       "      <td>1170</td>\n",
       "      <td>218</td>\n",
       "      <td>157</td>\n",
       "      <td>67302</td>\n",
       "      <td>1200</td>\n",
       "      <td>17302</td>\n",
       "      <td>424</td>\n",
       "      <td>360</td>\n",
       "      <td>233</td>\n",
       "      <td>108</td>\n",
       "      <td>47302</td>\n",
       "      <td>1170</td>\n",
       "      <td>64</td>\n",
       "      <td>74</td>\n",
       "    </tr>\n",
       "    <tr>\n",
       "      <th>7302</th>\n",
       "      <td>1200</td>\n",
       "      <td>135</td>\n",
       "      <td>51</td>\n",
       "      <td>67303</td>\n",
       "      <td>1230</td>\n",
       "      <td>17303</td>\n",
       "      <td>359</td>\n",
       "      <td>330</td>\n",
       "      <td>243</td>\n",
       "      <td>115</td>\n",
       "      <td>47303</td>\n",
       "      <td>1170</td>\n",
       "      <td>172</td>\n",
       "      <td>182</td>\n",
       "    </tr>\n",
       "  </tbody>\n",
       "</table>\n",
       "<p>7303 rows × 14 columns</p>\n",
       "</div>"
      ],
      "text/plain": [
       "      dropoff_from  dropoff_location_x  dropoff_location_y  dropoff_point_id  \\\n",
       "0              600                 252                 197             60001   \n",
       "1              630                  24                 105             60002   \n",
       "2             1050                 115                  38             60003   \n",
       "3              420                 236                 165             60004   \n",
       "4              840                  12                 101             60005   \n",
       "5              330                 179                 128             60006   \n",
       "6              600                 280                 142             60007   \n",
       "7              420                 193                 112             60008   \n",
       "8              690                 332                  97             60009   \n",
       "9              480                 293                  70             60010   \n",
       "10             600                 136                 135             60011   \n",
       "11             480                 209                  10             60012   \n",
       "12             660                 220                 119             60013   \n",
       "13             750                 167                 155             60014   \n",
       "14             600                 268                  91             60015   \n",
       "15             510                 199                 128             60016   \n",
       "16             420                 202                 208             60017   \n",
       "17             480                 120                 232             60018   \n",
       "18             660                 211                 229             60019   \n",
       "19             420                 150                 159             60020   \n",
       "20             660                 236                 126             60021   \n",
       "21             540                 273                 113             60022   \n",
       "22             480                 256                 110             60023   \n",
       "23             720                 274                 110             60024   \n",
       "24             660                 275                 110             60025   \n",
       "25             869                 227                 150             60026   \n",
       "26             480                 317                  57             60027   \n",
       "27             420                  26                 138             60028   \n",
       "28             420                 280                 256             60029   \n",
       "29             450                 149                  75             60030   \n",
       "...            ...                 ...                 ...               ...   \n",
       "7273          1058                 208                   7             67274   \n",
       "7274          1140                 341                  95             67275   \n",
       "7275          1110                 248                 199             67276   \n",
       "7276          1110                 110                 102             67277   \n",
       "7277          1065                 227                 156             67278   \n",
       "7278          1067                 266                  83             67279   \n",
       "7279          1170                 311                   5             67280   \n",
       "7280          1072                 144                 156             67281   \n",
       "7281          1073                 189                  99             67282   \n",
       "7282          1074                 171                 130             67283   \n",
       "7283          1074                 280                 152             67284   \n",
       "7284          1074                 224                 240             67285   \n",
       "7285          1075                 266                  83             67286   \n",
       "7286          1078                 246                 160             67287   \n",
       "7287          1140                 212                 112             67288   \n",
       "7288          1140                 213                  62             67289   \n",
       "7289          1086                 240                 136             67290   \n",
       "7290          1088                 222                 186             67291   \n",
       "7291          1086                 243                 110             67292   \n",
       "7292          1140                 104                  98             67293   \n",
       "7293          1096                 332                  12             67294   \n",
       "7294          1140                 132                  97             67295   \n",
       "7295          1103                 110                  66             67296   \n",
       "7296          1105                 101                 101             67297   \n",
       "7297          1105                 137                 150             67298   \n",
       "7298          1108                 156                 226             67299   \n",
       "7299          1108                 243                 113             67300   \n",
       "7300          1108                  63                 126             67301   \n",
       "7301          1170                 218                 157             67302   \n",
       "7302          1200                 135                  51             67303   \n",
       "\n",
       "      dropoff_to  order_id  payment  pickup_from  pickup_location_x  \\\n",
       "0            960     10001      313          480                284   \n",
       "1            660     10002      519          420                244   \n",
       "2           1080     10003      380          390                225   \n",
       "3            450     10004      302          300                233   \n",
       "4            870     10005      482          300                233   \n",
       "5            360     10006      298          240                233   \n",
       "6            660     10007      521          480                 47   \n",
       "7            780     10008      337          360                241   \n",
       "8            720     10009      440          600                244   \n",
       "9            960     10010      500          420                114   \n",
       "10           840     10011      310          600                317   \n",
       "11           720     10012      372          480                217   \n",
       "12           720     10013      244          480                217   \n",
       "13           930     10014      155          480                161   \n",
       "14           780     10015      352          540                160   \n",
       "15           570     10016      284          450                211   \n",
       "16           660     10017      260          420                208   \n",
       "17           720     10018      370          420                222   \n",
       "18           780     10019      431          360                177   \n",
       "19           840     10020      291          420                266   \n",
       "20           810     10021      342          570                201   \n",
       "21           780     10022      302          540                343   \n",
       "22           720     10023      321          480                237   \n",
       "23           840     10024      513          390                 82   \n",
       "24           900     10025      294          660                199   \n",
       "25           420     10026      410          300                138   \n",
       "26           600     10027      468          420                164   \n",
       "27           840     10028      650          360                130   \n",
       "28           480     10029      480          390                172   \n",
       "29           540     10030      346          420                167   \n",
       "...          ...       ...      ...          ...                ...   \n",
       "7273        1170     17274      426          360                110   \n",
       "7274        1200     17275      441          420                230   \n",
       "7275        1230     17276      350          300                192   \n",
       "7276        1230     17277      468          420                240   \n",
       "7277        1170     17278      339          420                200   \n",
       "7278        1170     17279      166          330                268   \n",
       "7279        1200     17280      510          390                219   \n",
       "7280        1170     17281      427          360                134   \n",
       "7281        1200     17282      392          330                137   \n",
       "7282        1230     17283      411          390                350   \n",
       "7283        1200     17284      419          420                104   \n",
       "7284        1230     17285        0          330                256   \n",
       "7285        1170     17286      166          420                268   \n",
       "7286        1200     17287      355          360                135   \n",
       "7287        1200     17288      335          300                177   \n",
       "7288        1170     17289      234          300                233   \n",
       "7289        1170     17290      340          300                267   \n",
       "7290        1178     17291      600          300                214   \n",
       "7291        1170     17292      248          390                288   \n",
       "7292        1200     17293      383          360                260   \n",
       "7293        1230     17294      416          360                262   \n",
       "7294        1200     17295      337          420                267   \n",
       "7295        1200     17296      224          300                101   \n",
       "7296        1200     17297      236          360                110   \n",
       "7297        1230     17298      470          360                358   \n",
       "7298        1230     17299      535          420                342   \n",
       "7299        1170     17300      238          330                196   \n",
       "7300        1200     17301      395          360                162   \n",
       "7301        1200     17302      424          360                233   \n",
       "7302        1230     17303      359          330                243   \n",
       "\n",
       "      pickup_location_y  pickup_point_id  pickup_to  spent_distance  \\\n",
       "0                   235            40001        570              70   \n",
       "1                   262            40002        450             377   \n",
       "2                   141            40003       1020             213   \n",
       "3                   108            40004        330              60   \n",
       "4                   108            40005        780             228   \n",
       "5                   108            40006        270              74   \n",
       "6                    78            40007        540             297   \n",
       "7                   203            40008        480             139   \n",
       "8                   262            40009        630             253   \n",
       "9                    48            40010        660             201   \n",
       "10                  143            40011        840             189   \n",
       "11                  145            40012        540             143   \n",
       "12                  145            40013        540              29   \n",
       "13                  153            40014        840               8   \n",
       "14                  136            40015        570             153   \n",
       "15                  118            40016        510              22   \n",
       "16                  284            40017        660              82   \n",
       "17                  210            40018        540             124   \n",
       "18                  188            40019        420              75   \n",
       "19                   75            40020        600             200   \n",
       "20                  143            40021        600              52   \n",
       "21                  109            40022        780              74   \n",
       "22                  137            40023        720              46   \n",
       "23                   14            40024        750             288   \n",
       "24                  149            40025        900             115   \n",
       "25                  217            40026        360             156   \n",
       "26                   16            40027        480             194   \n",
       "27                  131            40028        600             111   \n",
       "28                  100            40029        420             264   \n",
       "29                  111            40030        450              54   \n",
       "...                 ...              ...        ...             ...   \n",
       "7273                128            47274       1140             219   \n",
       "7274                132            47275       1140             148   \n",
       "7275                182            47276       1170              73   \n",
       "7276                268            47277       1170             296   \n",
       "7277                 58            47278       1110             125   \n",
       "7278                 78            47279       1140               7   \n",
       "7279                261            47280       1170             348   \n",
       "7280                114            47281       1140              52   \n",
       "7281                200            47282       1140             153   \n",
       "7282                141            47283       1170             190   \n",
       "7283                 91            47284       1140             237   \n",
       "7284                 45            47285       1140             227   \n",
       "7285                 78            47286       1140               7   \n",
       "7286                209            47287       1170             160   \n",
       "7287                167            47288       1170              90   \n",
       "7288                108            47289       1140              66   \n",
       "7289                 51            47290       1140             112   \n",
       "7290                184            47291       1178              10   \n",
       "7291                 53            47292       1170             102   \n",
       "7292                 85            47293       1140             169   \n",
       "7293                189            47294       1140             247   \n",
       "7294                 72            47295       1140             160   \n",
       "7295                101            47296       1170              44   \n",
       "7296                 66            47297       1170              44   \n",
       "7297                169            47298       1140             240   \n",
       "7298                 96            47299       1200             316   \n",
       "7299                112            47300       1140              48   \n",
       "7300                163            47301       1170             136   \n",
       "7301                108            47302       1170              64   \n",
       "7302                115            47303       1170             172   \n",
       "\n",
       "      spent_time  \n",
       "0             80  \n",
       "1            387  \n",
       "2            223  \n",
       "3             70  \n",
       "4            238  \n",
       "5             84  \n",
       "6            307  \n",
       "7            149  \n",
       "8            263  \n",
       "9            211  \n",
       "10           199  \n",
       "11           153  \n",
       "12            39  \n",
       "13            18  \n",
       "14           163  \n",
       "15            32  \n",
       "16            92  \n",
       "17           134  \n",
       "18            85  \n",
       "19           210  \n",
       "20            62  \n",
       "21            84  \n",
       "22            56  \n",
       "23           298  \n",
       "24           125  \n",
       "25           166  \n",
       "26           204  \n",
       "27           121  \n",
       "28           274  \n",
       "29            64  \n",
       "...          ...  \n",
       "7273         229  \n",
       "7274         158  \n",
       "7275          83  \n",
       "7276         306  \n",
       "7277         135  \n",
       "7278          17  \n",
       "7279         358  \n",
       "7280          62  \n",
       "7281         163  \n",
       "7282         200  \n",
       "7283         247  \n",
       "7284         237  \n",
       "7285          17  \n",
       "7286         170  \n",
       "7287         100  \n",
       "7288          76  \n",
       "7289         122  \n",
       "7290          20  \n",
       "7291         112  \n",
       "7292         179  \n",
       "7293         257  \n",
       "7294         170  \n",
       "7295          54  \n",
       "7296          54  \n",
       "7297         250  \n",
       "7298         326  \n",
       "7299          58  \n",
       "7300         146  \n",
       "7301          74  \n",
       "7302         182  \n",
       "\n",
       "[7303 rows x 14 columns]"
      ]
     },
     "execution_count": 56,
     "metadata": {},
     "output_type": "execute_result"
    }
   ],
   "source": [
    "orders"
   ]
  },
  {
   "cell_type": "code",
   "execution_count": 9,
   "metadata": {},
   "outputs": [
    {
     "ename": "ValueError",
     "evalue": "arrays must all be same length",
     "traceback": [
      "\u001b[0;31m---------------------------------------------------------------------------\u001b[0m",
      "\u001b[0;31mValueError\u001b[0m                                Traceback (most recent call last)",
      "\u001b[0;32m<ipython-input-9-25f0df49cbe3>\u001b[0m in \u001b[0;36m<module>\u001b[0;34m()\u001b[0m\n\u001b[0;32m----> 1\u001b[0;31m \u001b[0mpd\u001b[0m\u001b[0;34m.\u001b[0m\u001b[0mread_json\u001b[0m\u001b[0;34m(\u001b[0m\u001b[0;34m'data/contest_input.json'\u001b[0m\u001b[0;34m)\u001b[0m\u001b[0;34m\u001b[0m\u001b[0m\n\u001b[0m",
      "\u001b[0;32m~/anaconda3/lib/python3.5/site-packages/pandas/io/json/json.py\u001b[0m in \u001b[0;36mread_json\u001b[0;34m(path_or_buf, orient, typ, dtype, convert_axes, convert_dates, keep_default_dates, numpy, precise_float, date_unit, encoding, lines, chunksize, compression)\u001b[0m\n\u001b[1;32m    425\u001b[0m         \u001b[0;32mreturn\u001b[0m \u001b[0mjson_reader\u001b[0m\u001b[0;34m\u001b[0m\u001b[0m\n\u001b[1;32m    426\u001b[0m \u001b[0;34m\u001b[0m\u001b[0m\n\u001b[0;32m--> 427\u001b[0;31m     \u001b[0mresult\u001b[0m \u001b[0;34m=\u001b[0m \u001b[0mjson_reader\u001b[0m\u001b[0;34m.\u001b[0m\u001b[0mread\u001b[0m\u001b[0;34m(\u001b[0m\u001b[0;34m)\u001b[0m\u001b[0;34m\u001b[0m\u001b[0m\n\u001b[0m\u001b[1;32m    428\u001b[0m     \u001b[0;32mif\u001b[0m \u001b[0mshould_close\u001b[0m\u001b[0;34m:\u001b[0m\u001b[0;34m\u001b[0m\u001b[0m\n\u001b[1;32m    429\u001b[0m         \u001b[0;32mtry\u001b[0m\u001b[0;34m:\u001b[0m\u001b[0;34m\u001b[0m\u001b[0m\n",
      "\u001b[0;32m~/anaconda3/lib/python3.5/site-packages/pandas/io/json/json.py\u001b[0m in \u001b[0;36mread\u001b[0;34m(self)\u001b[0m\n\u001b[1;32m    535\u001b[0m             )\n\u001b[1;32m    536\u001b[0m         \u001b[0;32melse\u001b[0m\u001b[0;34m:\u001b[0m\u001b[0;34m\u001b[0m\u001b[0m\n\u001b[0;32m--> 537\u001b[0;31m             \u001b[0mobj\u001b[0m \u001b[0;34m=\u001b[0m \u001b[0mself\u001b[0m\u001b[0;34m.\u001b[0m\u001b[0m_get_object_parser\u001b[0m\u001b[0;34m(\u001b[0m\u001b[0mself\u001b[0m\u001b[0;34m.\u001b[0m\u001b[0mdata\u001b[0m\u001b[0;34m)\u001b[0m\u001b[0;34m\u001b[0m\u001b[0m\n\u001b[0m\u001b[1;32m    538\u001b[0m         \u001b[0mself\u001b[0m\u001b[0;34m.\u001b[0m\u001b[0mclose\u001b[0m\u001b[0;34m(\u001b[0m\u001b[0;34m)\u001b[0m\u001b[0;34m\u001b[0m\u001b[0m\n\u001b[1;32m    539\u001b[0m         \u001b[0;32mreturn\u001b[0m \u001b[0mobj\u001b[0m\u001b[0;34m\u001b[0m\u001b[0m\n",
      "\u001b[0;32m~/anaconda3/lib/python3.5/site-packages/pandas/io/json/json.py\u001b[0m in \u001b[0;36m_get_object_parser\u001b[0;34m(self, json)\u001b[0m\n\u001b[1;32m    554\u001b[0m         \u001b[0mobj\u001b[0m \u001b[0;34m=\u001b[0m \u001b[0;32mNone\u001b[0m\u001b[0;34m\u001b[0m\u001b[0m\n\u001b[1;32m    555\u001b[0m         \u001b[0;32mif\u001b[0m \u001b[0mtyp\u001b[0m \u001b[0;34m==\u001b[0m \u001b[0;34m'frame'\u001b[0m\u001b[0;34m:\u001b[0m\u001b[0;34m\u001b[0m\u001b[0m\n\u001b[0;32m--> 556\u001b[0;31m             \u001b[0mobj\u001b[0m \u001b[0;34m=\u001b[0m \u001b[0mFrameParser\u001b[0m\u001b[0;34m(\u001b[0m\u001b[0mjson\u001b[0m\u001b[0;34m,\u001b[0m \u001b[0;34m**\u001b[0m\u001b[0mkwargs\u001b[0m\u001b[0;34m)\u001b[0m\u001b[0;34m.\u001b[0m\u001b[0mparse\u001b[0m\u001b[0;34m(\u001b[0m\u001b[0;34m)\u001b[0m\u001b[0;34m\u001b[0m\u001b[0m\n\u001b[0m\u001b[1;32m    557\u001b[0m \u001b[0;34m\u001b[0m\u001b[0m\n\u001b[1;32m    558\u001b[0m         \u001b[0;32mif\u001b[0m \u001b[0mtyp\u001b[0m \u001b[0;34m==\u001b[0m \u001b[0;34m'series'\u001b[0m \u001b[0;32mor\u001b[0m \u001b[0mobj\u001b[0m \u001b[0;32mis\u001b[0m \u001b[0;32mNone\u001b[0m\u001b[0;34m:\u001b[0m\u001b[0;34m\u001b[0m\u001b[0m\n",
      "\u001b[0;32m~/anaconda3/lib/python3.5/site-packages/pandas/io/json/json.py\u001b[0m in \u001b[0;36mparse\u001b[0;34m(self)\u001b[0m\n\u001b[1;32m    650\u001b[0m \u001b[0;34m\u001b[0m\u001b[0m\n\u001b[1;32m    651\u001b[0m         \u001b[0;32melse\u001b[0m\u001b[0;34m:\u001b[0m\u001b[0;34m\u001b[0m\u001b[0m\n\u001b[0;32m--> 652\u001b[0;31m             \u001b[0mself\u001b[0m\u001b[0;34m.\u001b[0m\u001b[0m_parse_no_numpy\u001b[0m\u001b[0;34m(\u001b[0m\u001b[0;34m)\u001b[0m\u001b[0;34m\u001b[0m\u001b[0m\n\u001b[0m\u001b[1;32m    653\u001b[0m \u001b[0;34m\u001b[0m\u001b[0m\n\u001b[1;32m    654\u001b[0m         \u001b[0;32mif\u001b[0m \u001b[0mself\u001b[0m\u001b[0;34m.\u001b[0m\u001b[0mobj\u001b[0m \u001b[0;32mis\u001b[0m \u001b[0;32mNone\u001b[0m\u001b[0;34m:\u001b[0m\u001b[0;34m\u001b[0m\u001b[0m\n",
      "\u001b[0;32m~/anaconda3/lib/python3.5/site-packages/pandas/io/json/json.py\u001b[0m in \u001b[0;36m_parse_no_numpy\u001b[0;34m(self)\u001b[0m\n\u001b[1;32m    869\u001b[0m         \u001b[0;32mif\u001b[0m \u001b[0morient\u001b[0m \u001b[0;34m==\u001b[0m \u001b[0;34m\"columns\"\u001b[0m\u001b[0;34m:\u001b[0m\u001b[0;34m\u001b[0m\u001b[0m\n\u001b[1;32m    870\u001b[0m             self.obj = DataFrame(\n\u001b[0;32m--> 871\u001b[0;31m                 loads(json, precise_float=self.precise_float), dtype=None)\n\u001b[0m\u001b[1;32m    872\u001b[0m         \u001b[0;32melif\u001b[0m \u001b[0morient\u001b[0m \u001b[0;34m==\u001b[0m \u001b[0;34m\"split\"\u001b[0m\u001b[0;34m:\u001b[0m\u001b[0;34m\u001b[0m\u001b[0m\n\u001b[1;32m    873\u001b[0m             decoded = {str(k): v for k, v in compat.iteritems(\n",
      "\u001b[0;32m~/anaconda3/lib/python3.5/site-packages/pandas/core/frame.py\u001b[0m in \u001b[0;36m__init__\u001b[0;34m(self, data, index, columns, dtype, copy)\u001b[0m\n\u001b[1;32m    390\u001b[0m                                  dtype=dtype, copy=copy)\n\u001b[1;32m    391\u001b[0m         \u001b[0;32melif\u001b[0m \u001b[0misinstance\u001b[0m\u001b[0;34m(\u001b[0m\u001b[0mdata\u001b[0m\u001b[0;34m,\u001b[0m \u001b[0mdict\u001b[0m\u001b[0;34m)\u001b[0m\u001b[0;34m:\u001b[0m\u001b[0;34m\u001b[0m\u001b[0m\n\u001b[0;32m--> 392\u001b[0;31m             \u001b[0mmgr\u001b[0m \u001b[0;34m=\u001b[0m \u001b[0minit_dict\u001b[0m\u001b[0;34m(\u001b[0m\u001b[0mdata\u001b[0m\u001b[0;34m,\u001b[0m \u001b[0mindex\u001b[0m\u001b[0;34m,\u001b[0m \u001b[0mcolumns\u001b[0m\u001b[0;34m,\u001b[0m \u001b[0mdtype\u001b[0m\u001b[0;34m=\u001b[0m\u001b[0mdtype\u001b[0m\u001b[0;34m)\u001b[0m\u001b[0;34m\u001b[0m\u001b[0m\n\u001b[0m\u001b[1;32m    393\u001b[0m         \u001b[0;32melif\u001b[0m \u001b[0misinstance\u001b[0m\u001b[0;34m(\u001b[0m\u001b[0mdata\u001b[0m\u001b[0;34m,\u001b[0m \u001b[0mma\u001b[0m\u001b[0;34m.\u001b[0m\u001b[0mMaskedArray\u001b[0m\u001b[0;34m)\u001b[0m\u001b[0;34m:\u001b[0m\u001b[0;34m\u001b[0m\u001b[0m\n\u001b[1;32m    394\u001b[0m             \u001b[0;32mimport\u001b[0m \u001b[0mnumpy\u001b[0m\u001b[0;34m.\u001b[0m\u001b[0mma\u001b[0m\u001b[0;34m.\u001b[0m\u001b[0mmrecords\u001b[0m \u001b[0;32mas\u001b[0m \u001b[0mmrecords\u001b[0m\u001b[0;34m\u001b[0m\u001b[0m\n",
      "\u001b[0;32m~/anaconda3/lib/python3.5/site-packages/pandas/core/internals/construction.py\u001b[0m in \u001b[0;36minit_dict\u001b[0;34m(data, index, columns, dtype)\u001b[0m\n\u001b[1;32m    210\u001b[0m         \u001b[0marrays\u001b[0m \u001b[0;34m=\u001b[0m \u001b[0;34m[\u001b[0m\u001b[0mdata\u001b[0m\u001b[0;34m[\u001b[0m\u001b[0mk\u001b[0m\u001b[0;34m]\u001b[0m \u001b[0;32mfor\u001b[0m \u001b[0mk\u001b[0m \u001b[0;32min\u001b[0m \u001b[0mkeys\u001b[0m\u001b[0;34m]\u001b[0m\u001b[0;34m\u001b[0m\u001b[0m\n\u001b[1;32m    211\u001b[0m \u001b[0;34m\u001b[0m\u001b[0m\n\u001b[0;32m--> 212\u001b[0;31m     \u001b[0;32mreturn\u001b[0m \u001b[0marrays_to_mgr\u001b[0m\u001b[0;34m(\u001b[0m\u001b[0marrays\u001b[0m\u001b[0;34m,\u001b[0m \u001b[0mdata_names\u001b[0m\u001b[0;34m,\u001b[0m \u001b[0mindex\u001b[0m\u001b[0;34m,\u001b[0m \u001b[0mcolumns\u001b[0m\u001b[0;34m,\u001b[0m \u001b[0mdtype\u001b[0m\u001b[0;34m=\u001b[0m\u001b[0mdtype\u001b[0m\u001b[0;34m)\u001b[0m\u001b[0;34m\u001b[0m\u001b[0m\n\u001b[0m\u001b[1;32m    213\u001b[0m \u001b[0;34m\u001b[0m\u001b[0m\n\u001b[1;32m    214\u001b[0m \u001b[0;34m\u001b[0m\u001b[0m\n",
      "\u001b[0;32m~/anaconda3/lib/python3.5/site-packages/pandas/core/internals/construction.py\u001b[0m in \u001b[0;36marrays_to_mgr\u001b[0;34m(arrays, arr_names, index, columns, dtype)\u001b[0m\n\u001b[1;32m     49\u001b[0m     \u001b[0;31m# figure out the index, if necessary\u001b[0m\u001b[0;34m\u001b[0m\u001b[0;34m\u001b[0m\u001b[0m\n\u001b[1;32m     50\u001b[0m     \u001b[0;32mif\u001b[0m \u001b[0mindex\u001b[0m \u001b[0;32mis\u001b[0m \u001b[0;32mNone\u001b[0m\u001b[0;34m:\u001b[0m\u001b[0;34m\u001b[0m\u001b[0m\n\u001b[0;32m---> 51\u001b[0;31m         \u001b[0mindex\u001b[0m \u001b[0;34m=\u001b[0m \u001b[0mextract_index\u001b[0m\u001b[0;34m(\u001b[0m\u001b[0marrays\u001b[0m\u001b[0;34m)\u001b[0m\u001b[0;34m\u001b[0m\u001b[0m\n\u001b[0m\u001b[1;32m     52\u001b[0m     \u001b[0;32melse\u001b[0m\u001b[0;34m:\u001b[0m\u001b[0;34m\u001b[0m\u001b[0m\n\u001b[1;32m     53\u001b[0m         \u001b[0mindex\u001b[0m \u001b[0;34m=\u001b[0m \u001b[0mensure_index\u001b[0m\u001b[0;34m(\u001b[0m\u001b[0mindex\u001b[0m\u001b[0;34m)\u001b[0m\u001b[0;34m\u001b[0m\u001b[0m\n",
      "\u001b[0;32m~/anaconda3/lib/python3.5/site-packages/pandas/core/internals/construction.py\u001b[0m in \u001b[0;36mextract_index\u001b[0;34m(data)\u001b[0m\n\u001b[1;32m    315\u001b[0m             \u001b[0mlengths\u001b[0m \u001b[0;34m=\u001b[0m \u001b[0mlist\u001b[0m\u001b[0;34m(\u001b[0m\u001b[0mset\u001b[0m\u001b[0;34m(\u001b[0m\u001b[0mraw_lengths\u001b[0m\u001b[0;34m)\u001b[0m\u001b[0;34m)\u001b[0m\u001b[0;34m\u001b[0m\u001b[0m\n\u001b[1;32m    316\u001b[0m             \u001b[0;32mif\u001b[0m \u001b[0mlen\u001b[0m\u001b[0;34m(\u001b[0m\u001b[0mlengths\u001b[0m\u001b[0;34m)\u001b[0m \u001b[0;34m>\u001b[0m \u001b[0;36m1\u001b[0m\u001b[0;34m:\u001b[0m\u001b[0;34m\u001b[0m\u001b[0m\n\u001b[0;32m--> 317\u001b[0;31m                 \u001b[0;32mraise\u001b[0m \u001b[0mValueError\u001b[0m\u001b[0;34m(\u001b[0m\u001b[0;34m'arrays must all be same length'\u001b[0m\u001b[0;34m)\u001b[0m\u001b[0;34m\u001b[0m\u001b[0m\n\u001b[0m\u001b[1;32m    318\u001b[0m \u001b[0;34m\u001b[0m\u001b[0m\n\u001b[1;32m    319\u001b[0m             \u001b[0;32mif\u001b[0m \u001b[0mhave_dicts\u001b[0m\u001b[0;34m:\u001b[0m\u001b[0;34m\u001b[0m\u001b[0m\n",
      "\u001b[0;31mValueError\u001b[0m: arrays must all be same length"
     ],
     "output_type": "error"
    }
   ],
   "source": [
    "pd.read_json('data/contest_input.json')"
   ]
  },
  {
   "cell_type": "code",
   "execution_count": 3,
   "metadata": {},
   "outputs": [
    {
     "name": "stderr",
     "output_type": "stream",
     "text": [
      "\r  0%|          | 0/300 [00:00<?, ?it/s]"
     ]
    },
    {
     "name": "stderr",
     "output_type": "stream",
     "text": [
      "\r  1%|          | 2/300 [00:00<00:54,  5.51it/s]"
     ]
    },
    {
     "name": "stderr",
     "output_type": "stream",
     "text": [
      "\r  1%|          | 3/300 [00:00<00:52,  5.68it/s]"
     ]
    },
    {
     "name": "stderr",
     "output_type": "stream",
     "text": [
      "\r  1%|▏         | 4/300 [00:00<00:48,  6.12it/s]"
     ]
    },
    {
     "name": "stderr",
     "output_type": "stream",
     "text": [
      "\r  2%|▏         | 5/300 [00:00<00:43,  6.84it/s]"
     ]
    },
    {
     "name": "stderr",
     "output_type": "stream",
     "text": [
      "\r  2%|▏         | 6/300 [00:00<00:39,  7.43it/s]"
     ]
    },
    {
     "name": "stderr",
     "output_type": "stream",
     "text": [
      "\r  2%|▏         | 7/300 [00:00<00:37,  7.82it/s]"
     ]
    },
    {
     "name": "stderr",
     "output_type": "stream",
     "text": [
      "\r  3%|▎         | 9/300 [00:01<00:32,  8.82it/s]"
     ]
    },
    {
     "name": "stderr",
     "output_type": "stream",
     "text": [
      "\r  3%|▎         | 10/300 [00:01<00:33,  8.75it/s]"
     ]
    },
    {
     "name": "stderr",
     "output_type": "stream",
     "text": [
      "\r  4%|▎         | 11/300 [00:01<00:34,  8.30it/s]"
     ]
    },
    {
     "name": "stderr",
     "output_type": "stream",
     "text": [
      "\r  4%|▍         | 12/300 [00:01<00:59,  4.88it/s]"
     ]
    },
    {
     "name": "stderr",
     "output_type": "stream",
     "text": [
      "\r  4%|▍         | 13/300 [00:01<00:52,  5.49it/s]"
     ]
    },
    {
     "name": "stderr",
     "output_type": "stream",
     "text": [
      "\r  5%|▍         | 14/300 [00:02<00:46,  6.10it/s]"
     ]
    },
    {
     "name": "stderr",
     "output_type": "stream",
     "text": [
      "\r  5%|▌         | 15/300 [00:02<00:41,  6.83it/s]"
     ]
    },
    {
     "name": "stderr",
     "output_type": "stream",
     "text": [
      "\r  5%|▌         | 16/300 [00:02<00:37,  7.49it/s]"
     ]
    },
    {
     "name": "stderr",
     "output_type": "stream",
     "text": [
      "\r  6%|▌         | 18/300 [00:02<00:33,  8.30it/s]"
     ]
    },
    {
     "name": "stderr",
     "output_type": "stream",
     "text": [
      "\r  7%|▋         | 20/300 [00:02<00:41,  6.81it/s]"
     ]
    },
    {
     "name": "stderr",
     "output_type": "stream",
     "text": [
      "\r  7%|▋         | 22/300 [00:02<00:34,  8.12it/s]"
     ]
    },
    {
     "name": "stderr",
     "output_type": "stream",
     "text": [
      "\r  8%|▊         | 23/300 [00:03<00:32,  8.54it/s]"
     ]
    },
    {
     "name": "stderr",
     "output_type": "stream",
     "text": [
      "\r  8%|▊         | 24/300 [00:03<00:32,  8.62it/s]"
     ]
    },
    {
     "name": "stderr",
     "output_type": "stream",
     "text": [
      "\r  9%|▊         | 26/300 [00:03<00:27, 10.03it/s]"
     ]
    },
    {
     "name": "stderr",
     "output_type": "stream",
     "text": [
      "\r  9%|▉         | 28/300 [00:03<00:23, 11.58it/s]"
     ]
    },
    {
     "name": "stderr",
     "output_type": "stream",
     "text": [
      "\r 10%|█         | 30/300 [00:03<00:21, 12.80it/s]"
     ]
    },
    {
     "name": "stderr",
     "output_type": "stream",
     "text": [
      "\r 11%|█         | 32/300 [00:03<00:19, 13.81it/s]"
     ]
    },
    {
     "name": "stderr",
     "output_type": "stream",
     "text": [
      "\r 11%|█▏        | 34/300 [00:03<00:18, 14.48it/s]"
     ]
    },
    {
     "name": "stderr",
     "output_type": "stream",
     "text": [
      "\r 12%|█▏        | 36/300 [00:03<00:20, 12.88it/s]"
     ]
    },
    {
     "name": "stderr",
     "output_type": "stream",
     "text": [
      "\r 13%|█▎        | 38/300 [00:04<00:18, 13.96it/s]"
     ]
    },
    {
     "name": "stderr",
     "output_type": "stream",
     "text": [
      "\r 13%|█▎        | 40/300 [00:04<00:17, 14.51it/s]"
     ]
    },
    {
     "name": "stderr",
     "output_type": "stream",
     "text": [
      "\r 14%|█▍        | 43/300 [00:04<00:15, 16.82it/s]"
     ]
    },
    {
     "name": "stderr",
     "output_type": "stream",
     "text": [
      "\r 15%|█▌        | 45/300 [00:04<00:15, 16.44it/s]"
     ]
    },
    {
     "name": "stderr",
     "output_type": "stream",
     "text": [
      "\r 16%|█▌        | 47/300 [00:04<00:15, 16.45it/s]"
     ]
    },
    {
     "name": "stderr",
     "output_type": "stream",
     "text": [
      "\r 16%|█▋        | 49/300 [00:04<00:15, 16.40it/s]"
     ]
    },
    {
     "name": "stderr",
     "output_type": "stream",
     "text": [
      "\r 17%|█▋        | 51/300 [00:04<00:16, 15.22it/s]"
     ]
    },
    {
     "name": "stderr",
     "output_type": "stream",
     "text": [
      "\r 18%|█▊        | 54/300 [00:05<00:15, 16.03it/s]"
     ]
    },
    {
     "name": "stderr",
     "output_type": "stream",
     "text": [
      "\r 19%|█▊        | 56/300 [00:05<00:15, 15.40it/s]"
     ]
    },
    {
     "name": "stderr",
     "output_type": "stream",
     "text": [
      "\r 19%|█▉        | 58/300 [00:05<00:16, 14.69it/s]"
     ]
    },
    {
     "name": "stderr",
     "output_type": "stream",
     "text": [
      "\r 20%|██        | 60/300 [00:05<00:18, 13.12it/s]"
     ]
    },
    {
     "name": "stderr",
     "output_type": "stream",
     "text": [
      "\r 21%|██        | 62/300 [00:05<00:20, 11.70it/s]"
     ]
    },
    {
     "name": "stderr",
     "output_type": "stream",
     "text": [
      "\r 21%|██▏       | 64/300 [00:05<00:19, 12.36it/s]"
     ]
    },
    {
     "name": "stderr",
     "output_type": "stream",
     "text": [
      "\r 22%|██▏       | 66/300 [00:06<00:18, 12.45it/s]"
     ]
    },
    {
     "name": "stderr",
     "output_type": "stream",
     "text": [
      "\r 23%|██▎       | 68/300 [00:06<00:16, 13.90it/s]"
     ]
    },
    {
     "name": "stderr",
     "output_type": "stream",
     "text": [
      "\r 23%|██▎       | 70/300 [00:06<00:17, 13.49it/s]"
     ]
    },
    {
     "name": "stderr",
     "output_type": "stream",
     "text": [
      "\r 24%|██▍       | 72/300 [00:06<00:18, 12.61it/s]"
     ]
    },
    {
     "name": "stderr",
     "output_type": "stream",
     "text": [
      "\r 25%|██▍       | 74/300 [00:06<00:17, 12.78it/s]"
     ]
    },
    {
     "name": "stderr",
     "output_type": "stream",
     "text": [
      "\r 25%|██▌       | 76/300 [00:07<00:24,  9.07it/s]"
     ]
    },
    {
     "name": "stderr",
     "output_type": "stream",
     "text": [
      "\r 26%|██▌       | 78/300 [00:07<00:21, 10.52it/s]"
     ]
    },
    {
     "name": "stderr",
     "output_type": "stream",
     "text": [
      "\r 27%|██▋       | 81/300 [00:07<00:18, 11.87it/s]"
     ]
    },
    {
     "name": "stderr",
     "output_type": "stream",
     "text": [
      "\r 28%|██▊       | 83/300 [00:07<00:21, 10.06it/s]"
     ]
    },
    {
     "name": "stderr",
     "output_type": "stream",
     "text": [
      "\r 28%|██▊       | 85/300 [00:07<00:26,  8.23it/s]"
     ]
    },
    {
     "name": "stderr",
     "output_type": "stream",
     "text": [
      "\r 29%|██▉       | 87/300 [00:08<00:23,  9.24it/s]"
     ]
    },
    {
     "name": "stderr",
     "output_type": "stream",
     "text": [
      "\r 30%|██▉       | 89/300 [00:08<00:20, 10.12it/s]"
     ]
    },
    {
     "name": "stderr",
     "output_type": "stream",
     "text": [
      "\r 30%|███       | 91/300 [00:08<00:22,  9.24it/s]"
     ]
    },
    {
     "name": "stderr",
     "output_type": "stream",
     "text": [
      "\r 31%|███       | 93/300 [00:08<00:23,  8.83it/s]"
     ]
    },
    {
     "name": "stderr",
     "output_type": "stream",
     "text": [
      "\r 32%|███▏      | 95/300 [00:09<00:24,  8.35it/s]"
     ]
    },
    {
     "name": "stderr",
     "output_type": "stream",
     "text": [
      "\r 32%|███▏      | 97/300 [00:09<00:20,  9.67it/s]"
     ]
    },
    {
     "name": "stderr",
     "output_type": "stream",
     "text": [
      "\r 33%|███▎      | 99/300 [00:09<00:24,  8.07it/s]"
     ]
    },
    {
     "name": "stderr",
     "output_type": "stream",
     "text": [
      "\r 34%|███▎      | 101/300 [00:09<00:22,  9.00it/s]"
     ]
    },
    {
     "name": "stderr",
     "output_type": "stream",
     "text": [
      "\r 34%|███▍      | 103/300 [00:09<00:23,  8.28it/s]"
     ]
    },
    {
     "name": "stderr",
     "output_type": "stream",
     "text": [
      "\r 35%|███▍      | 104/300 [00:10<00:23,  8.24it/s]"
     ]
    },
    {
     "name": "stderr",
     "output_type": "stream",
     "text": [
      "\r 36%|███▌      | 107/300 [00:10<00:19, 10.06it/s]"
     ]
    },
    {
     "name": "stderr",
     "output_type": "stream",
     "text": [
      "\r 36%|███▋      | 109/300 [00:10<00:22,  8.47it/s]"
     ]
    },
    {
     "name": "stderr",
     "output_type": "stream",
     "text": [
      "\r 37%|███▋      | 111/300 [00:10<00:24,  7.80it/s]"
     ]
    },
    {
     "name": "stderr",
     "output_type": "stream",
     "text": [
      "\r 37%|███▋      | 112/300 [00:10<00:23,  7.95it/s]"
     ]
    },
    {
     "name": "stderr",
     "output_type": "stream",
     "text": [
      "\r 38%|███▊      | 115/300 [00:11<00:22,  8.20it/s]"
     ]
    },
    {
     "name": "stderr",
     "output_type": "stream",
     "text": [
      "\r 39%|███▊      | 116/300 [00:11<00:22,  8.23it/s]"
     ]
    },
    {
     "name": "stderr",
     "output_type": "stream",
     "text": [
      "\r 39%|███▉      | 117/300 [00:11<00:22,  8.14it/s]"
     ]
    },
    {
     "name": "stderr",
     "output_type": "stream",
     "text": [
      "\r 40%|████      | 121/300 [00:11<00:17, 10.25it/s]"
     ]
    },
    {
     "name": "stderr",
     "output_type": "stream",
     "text": [
      "\r 41%|████      | 123/300 [00:11<00:18,  9.58it/s]"
     ]
    },
    {
     "name": "stderr",
     "output_type": "stream",
     "text": [
      "\r 42%|████▏     | 125/300 [00:12<00:21,  8.16it/s]"
     ]
    },
    {
     "name": "stderr",
     "output_type": "stream",
     "text": [
      "\r 42%|████▏     | 127/300 [00:12<00:19,  9.10it/s]"
     ]
    },
    {
     "name": "stderr",
     "output_type": "stream",
     "text": [
      "\r 43%|████▎     | 129/300 [00:12<00:16, 10.36it/s]"
     ]
    },
    {
     "name": "stderr",
     "output_type": "stream",
     "text": [
      "\r 44%|████▎     | 131/300 [00:12<00:14, 11.95it/s]"
     ]
    },
    {
     "name": "stderr",
     "output_type": "stream",
     "text": [
      "\r 45%|████▍     | 134/300 [00:12<00:11, 14.53it/s]"
     ]
    },
    {
     "name": "stderr",
     "output_type": "stream",
     "text": [
      "\r 46%|████▌     | 137/300 [00:12<00:10, 16.11it/s]"
     ]
    },
    {
     "name": "stderr",
     "output_type": "stream",
     "text": [
      "\r 47%|████▋     | 140/300 [00:13<00:09, 16.83it/s]"
     ]
    },
    {
     "name": "stderr",
     "output_type": "stream",
     "text": [
      "\r 47%|████▋     | 142/300 [00:13<00:09, 16.20it/s]"
     ]
    },
    {
     "name": "stderr",
     "output_type": "stream",
     "text": [
      "\r 48%|████▊     | 145/300 [00:13<00:08, 18.02it/s]"
     ]
    },
    {
     "name": "stderr",
     "output_type": "stream",
     "text": [
      "\r 49%|████▉     | 148/300 [00:13<00:08, 18.38it/s]"
     ]
    },
    {
     "name": "stderr",
     "output_type": "stream",
     "text": [
      "\r 50%|█████     | 150/300 [00:13<00:08, 17.40it/s]"
     ]
    },
    {
     "name": "stderr",
     "output_type": "stream",
     "text": [
      "\r 51%|█████     | 153/300 [00:13<00:08, 17.80it/s]"
     ]
    },
    {
     "name": "stderr",
     "output_type": "stream",
     "text": [
      "\r 52%|█████▏    | 155/300 [00:13<00:09, 15.70it/s]"
     ]
    },
    {
     "name": "stderr",
     "output_type": "stream",
     "text": [
      "\r 52%|█████▏    | 157/300 [00:14<00:09, 15.17it/s]"
     ]
    },
    {
     "name": "stderr",
     "output_type": "stream",
     "text": [
      "\r 54%|█████▎    | 161/300 [00:14<00:07, 17.85it/s]"
     ]
    },
    {
     "name": "stderr",
     "output_type": "stream",
     "text": [
      "\r 55%|█████▌    | 165/300 [00:14<00:06, 20.05it/s]"
     ]
    },
    {
     "name": "stderr",
     "output_type": "stream",
     "text": [
      "\r 56%|█████▌    | 168/300 [00:14<00:06, 19.42it/s]"
     ]
    },
    {
     "name": "stderr",
     "output_type": "stream",
     "text": [
      "\r 57%|█████▋    | 171/300 [00:14<00:07, 18.04it/s]"
     ]
    },
    {
     "name": "stderr",
     "output_type": "stream",
     "text": [
      "\r 59%|█████▊    | 176/300 [00:14<00:05, 20.95it/s]"
     ]
    },
    {
     "name": "stderr",
     "output_type": "stream",
     "text": [
      "\r 60%|██████    | 181/300 [00:14<00:04, 24.47it/s]"
     ]
    },
    {
     "name": "stderr",
     "output_type": "stream",
     "text": [
      "\r 61%|██████▏   | 184/300 [00:15<00:05, 21.44it/s]"
     ]
    },
    {
     "name": "stderr",
     "output_type": "stream",
     "text": [
      "\r 62%|██████▏   | 187/300 [00:15<00:05, 19.33it/s]"
     ]
    },
    {
     "name": "stderr",
     "output_type": "stream",
     "text": [
      "\r 64%|██████▍   | 192/300 [00:15<00:04, 23.44it/s]"
     ]
    },
    {
     "name": "stderr",
     "output_type": "stream",
     "text": [
      "\r 65%|██████▌   | 195/300 [00:15<00:04, 22.23it/s]"
     ]
    },
    {
     "name": "stderr",
     "output_type": "stream",
     "text": [
      "\r 66%|██████▌   | 198/300 [00:15<00:04, 21.84it/s]"
     ]
    },
    {
     "name": "stderr",
     "output_type": "stream",
     "text": [
      "\r 67%|██████▋   | 201/300 [00:15<00:05, 19.49it/s]"
     ]
    },
    {
     "name": "stderr",
     "output_type": "stream",
     "text": [
      "\r 68%|██████▊   | 204/300 [00:16<00:04, 20.33it/s]"
     ]
    },
    {
     "name": "stderr",
     "output_type": "stream",
     "text": [
      "\r 69%|██████▉   | 208/300 [00:16<00:04, 21.77it/s]"
     ]
    },
    {
     "name": "stderr",
     "output_type": "stream",
     "text": [
      "\r 72%|███████▏  | 215/300 [00:16<00:03, 26.47it/s]"
     ]
    },
    {
     "name": "stderr",
     "output_type": "stream",
     "text": [
      "\r 73%|███████▎  | 219/300 [00:16<00:03, 24.76it/s]"
     ]
    },
    {
     "name": "stderr",
     "output_type": "stream",
     "text": [
      "\r 74%|███████▍  | 222/300 [00:16<00:03, 23.54it/s]"
     ]
    },
    {
     "name": "stderr",
     "output_type": "stream",
     "text": [
      "\r 75%|███████▌  | 226/300 [00:16<00:03, 24.67it/s]"
     ]
    },
    {
     "name": "stderr",
     "output_type": "stream",
     "text": [
      "\r 76%|███████▋  | 229/300 [00:17<00:03, 18.63it/s]"
     ]
    },
    {
     "name": "stderr",
     "output_type": "stream",
     "text": [
      "\r 78%|███████▊  | 233/300 [00:17<00:03, 20.13it/s]"
     ]
    },
    {
     "name": "stderr",
     "output_type": "stream",
     "text": [
      "\r 79%|███████▊  | 236/300 [00:17<00:03, 19.82it/s]"
     ]
    },
    {
     "name": "stderr",
     "output_type": "stream",
     "text": [
      "\r 81%|████████  | 243/300 [00:17<00:02, 25.20it/s]"
     ]
    },
    {
     "name": "stderr",
     "output_type": "stream",
     "text": [
      "\r 82%|████████▏ | 247/300 [00:17<00:02, 26.49it/s]"
     ]
    },
    {
     "name": "stderr",
     "output_type": "stream",
     "text": [
      "\r 84%|████████▎ | 251/300 [00:17<00:01, 27.83it/s]"
     ]
    },
    {
     "name": "stderr",
     "output_type": "stream",
     "text": [
      "\r 85%|████████▌ | 255/300 [00:17<00:01, 25.62it/s]"
     ]
    },
    {
     "name": "stderr",
     "output_type": "stream",
     "text": [
      "\r 86%|████████▌ | 258/300 [00:18<00:01, 25.72it/s]"
     ]
    },
    {
     "name": "stderr",
     "output_type": "stream",
     "text": [
      "\r 87%|████████▋ | 262/300 [00:18<00:01, 26.89it/s]"
     ]
    },
    {
     "name": "stderr",
     "output_type": "stream",
     "text": [
      "\r 89%|████████▊ | 266/300 [00:18<00:01, 28.42it/s]"
     ]
    },
    {
     "name": "stderr",
     "output_type": "stream",
     "text": [
      "\r 90%|█████████ | 270/300 [00:18<00:01, 26.74it/s]"
     ]
    },
    {
     "name": "stderr",
     "output_type": "stream",
     "text": [
      "\r 92%|█████████▏| 275/300 [00:18<00:00, 30.07it/s]"
     ]
    },
    {
     "name": "stderr",
     "output_type": "stream",
     "text": [
      "\r 93%|█████████▎| 279/300 [00:18<00:00, 30.00it/s]"
     ]
    },
    {
     "name": "stderr",
     "output_type": "stream",
     "text": [
      "\r 94%|█████████▍| 283/300 [00:18<00:00, 29.16it/s]"
     ]
    },
    {
     "name": "stderr",
     "output_type": "stream",
     "text": [
      "\r 96%|█████████▌| 287/300 [00:18<00:00, 31.68it/s]"
     ]
    },
    {
     "name": "stderr",
     "output_type": "stream",
     "text": [
      "\r 97%|█████████▋| 292/300 [00:19<00:00, 33.34it/s]"
     ]
    },
    {
     "name": "stderr",
     "output_type": "stream",
     "text": [
      "\r 99%|█████████▊| 296/300 [00:19<00:00, 29.76it/s]"
     ]
    },
    {
     "name": "stderr",
     "output_type": "stream",
     "text": [
      "\r100%|██████████| 300/300 [00:19<00:00, 26.95it/s]"
     ]
    },
    {
     "name": "stderr",
     "output_type": "stream",
     "text": [
      "\n"
     ]
    }
   ],
   "source": [
    "from __future__ import print_function\n",
    "import json\n",
    "import pandas as pd\n",
    "import matplotlib.pyplot as plt\n",
    "import seaborn as sns\n",
    "import numpy as np\n",
    "from tqdm import tqdm\n",
    "from scipy.spatial import distance_matrix\n",
    "from ortools.constraint_solver import routing_enums_pb2\n",
    "from ortools.constraint_solver import pywrapcp\n",
    "\n",
    "with open('data/contest_input.json') as f:\n",
    "#with open('data/hard_input.json') as f:\n",
    "    contest_data = json.load(f)\n",
    "\n",
    "contest_data.keys()\n",
    "\n",
    "couriers = pd.DataFrame(contest_data['couriers'])\n",
    "orders = pd.DataFrame(contest_data['orders'])\n",
    "depots = pd.DataFrame(contest_data['depots'])\n",
    "\n",
    "\n",
    "def filter_orders(orders):\n",
    "    orders = orders[(orders['pickup_to']>=360)\n",
    "                    & (orders['dropoff_to'] >=360)\n",
    "                    & (orders['payment'] > 0)\n",
    "                    & (orders['dropoff_to'] >= orders['pickup_to'])]\n",
    "    return orders\n",
    "\n",
    "\n",
    "orders = filter_orders(orders)\n",
    "\n",
    "couriers_x = couriers.location_x\n",
    "couriers_y = couriers.location_y\n",
    "\n",
    "\n",
    "def manh_distance(x0,y0,x1,y1):\n",
    "    return np.abs(x0 - x1) + np.abs(y0-y1)\n",
    "\n",
    "def courier_distance(x0,y0,x1,y1):\n",
    "    return 10 + manh_distance(x0,y0,x1,y1)\n",
    "\n",
    "\n",
    "\n",
    "drop_x = orders['dropoff_location_x'].values\n",
    "drop_y = orders['dropoff_location_y'].values\n",
    "pick_x = orders['pickup_location_x'].values\n",
    "pick_y = orders['pickup_location_y'].values\n",
    "\n",
    "money = orders['payment'].values\n",
    "end2start = np.zeros((orders.shape[0], orders.shape[0]))\n",
    "end2start_time = np.zeros((orders.shape[0], orders.shape[0]))\n",
    "drop_coordinates = orders[['dropoff_location_x', 'dropoff_location_y']].values\n",
    "pick_coordinates = orders[['pickup_location_x', 'pickup_location_y']].values\n",
    "time_from_start_to_end = np.array(courier_distance(pick_x, pick_y, drop_x, drop_y))\n",
    "# [end_id, start_id]\n",
    "time_from_ends_to_starts = 10 + distance_matrix(drop_coordinates, pick_coordinates, p=1).astype('float')\n",
    "# Avoid to go to myself\n",
    "time_from_ends_to_starts += np.eye(time_from_ends_to_starts.shape[0]) * 10e6\n",
    "# end0 -> start1 -> end1\n",
    "\n",
    "time_from_ends_to_end = time_from_start_to_end + time_from_ends_to_starts\n",
    "#\n",
    "metric_from_ends_to_end = np.array(money) - time_from_ends_to_end * 2\n",
    "\n",
    "drop_from = orders['dropoff_from'].values\n",
    "drop_to = orders['dropoff_to'].values\n",
    "pick_from = orders['pickup_from'].values\n",
    "pick_to = orders['pickup_to'].values\n",
    "\n",
    "\n",
    "def greedy_courier(start_position, visited_nodes, PROFIT_THRESHOLD=50):\n",
    "    \"\"\"\n",
    "    Need a lot of global variables\n",
    "    \"\"\"\n",
    "    path = []\n",
    "    pick_time_first = 10 + distance_matrix([start_position], pick_coordinates, p=1).reshape((-1,))\n",
    "    drop_time_first = pick_time_first + time_from_start_to_end\n",
    "    metric_first = money - (pick_time_first + drop_time_first) * 2\n",
    "    current_time = 360\n",
    "    sorted_metric = np.argsort(metric_first)[::-1]\n",
    "    # first step\n",
    "    for j, id_ in enumerate(sorted_metric):\n",
    "        if id_ in visited_nodes:\n",
    "            continue\n",
    "        pick_time = current_time + pick_time_first[id_]\n",
    "        drop_time = current_time + drop_time_first[id_]\n",
    "\n",
    "        if metric_first[id_] < -10:\n",
    "            break\n",
    "        if pick_from[id_] < pick_time < pick_to[id_] and drop_from[id_] < drop_time < drop_to[id_]:\n",
    "            path.append(id_)\n",
    "            current_time = drop_time\n",
    "            metric_from_ends_to_end[:, id_] = -10e5\n",
    "            break\n",
    "        elif pick_time < pick_from[id_]:  # Let's wait\n",
    "            wait_pick = pick_from[id_] - pick_time\n",
    "            pick_time = pick_from[id_]\n",
    "            new_drop_time = pick_time + time_from_start_to_end[id_]\n",
    "            if new_drop_time < drop_to[id_]:  # Can drop\n",
    "                if drop_from[id_] <= new_drop_time:  # In time!\n",
    "                    if (metric_first[id_] - wait_pick * 2) > -50:\n",
    "                        path.append(id_)\n",
    "                        current_time = new_drop_time\n",
    "                        metric_from_ends_to_end[:, id_] = -10e5\n",
    "                        break\n",
    "                else:  # Should wait drop\n",
    "                    wait_drop = drop_from[id_] - new_drop_time\n",
    "                    if (metric_first[id_] - wait_pick * 2 - wait_drop * 2) > -50:\n",
    "                        path.append(id_)\n",
    "                        current_time = new_drop_time + wait_drop\n",
    "                        metric_from_ends_to_end[:, id_] = -10e5\n",
    "                        break\n",
    "    STOP = False\n",
    "    if len(path) == 0:\n",
    "        STOP = True\n",
    "    else:\n",
    "        visited_nodes.add(path[0])\n",
    "    while not STOP:\n",
    "        current_metric_array = metric_from_ends_to_end[path[-1], :]\n",
    "        sorted_metric = np.argsort(current_metric_array)[::-1]\n",
    "        for j, id_ in enumerate(sorted_metric):\n",
    "            pick_time = current_time + time_from_ends_to_starts[path[-1]][id_]\n",
    "            drop_time = pick_time + time_from_start_to_end[id_]\n",
    "            if current_metric_array[id_] < -10 or current_time >= 1439:\n",
    "                STOP = True\n",
    "            if pick_from[id_] < pick_time < pick_to[id_] and drop_from[id_] < drop_time < drop_to[\n",
    "                id_] and id_ not in visited_nodes:\n",
    "                path.append(id_)\n",
    "                visited_nodes.add(id_)\n",
    "                current_time = drop_time\n",
    "                metric_from_ends_to_end[:, id_] = -10e5\n",
    "                break\n",
    "            elif pick_time < pick_from[id_]:  # Let's wait\n",
    "                wait_pick = pick_from[id_] - pick_time\n",
    "                pick_time = pick_from[id_]\n",
    "                new_drop_time = pick_time + time_from_start_to_end[id_]\n",
    "                if new_drop_time < drop_to[id_]:  # Can drop\n",
    "                    if drop_from[id_] <= new_drop_time:  # In time!\n",
    "                        if (current_metric_array[id_] - wait_pick * 2) > PROFIT_THRESHOLD:\n",
    "                            path.append(id_)\n",
    "                            visited_nodes.add(id_)\n",
    "                            current_time = new_drop_time\n",
    "                            metric_from_ends_to_end[:, id_] = -10e5\n",
    "                            break\n",
    "                    else:  # Should wait drop\n",
    "                        wait_drop = drop_from[id_] - new_drop_time\n",
    "                        if (current_metric_array[id_] - wait_pick * 2 - wait_drop * 2) > PROFIT_THRESHOLD:\n",
    "                            path.append(id_)\n",
    "                            visited_nodes.add(id_)\n",
    "                            current_time = new_drop_time + wait_drop\n",
    "                            metric_from_ends_to_end[:, id_] = -10e5\n",
    "                            break\n",
    "    visited_nodes = visited_nodes\n",
    "    return path, current_time, visited_nodes\n",
    "\n",
    "\n",
    "paths, times = [], []\n",
    "visited_nodes = set()\n",
    "for start_position in tqdm(couriers[['location_x', 'location_y']].values):\n",
    "    path, time, visited_nodes = greedy_courier(start_position, visited_nodes=visited_nodes)\n",
    "    paths.append(path)\n",
    "    times.append(time)\n",
    "\n",
    "\n",
    "\n",
    "order_ids = orders['order_id'].values\n",
    "pickup_point_ids = orders['pickup_point_id'].values\n",
    "dropoff_point_ids = orders['dropoff_point_id'].values\n",
    "\n",
    "actions = []\n",
    "for path, courier_id in zip(paths, np.arange(1, 301)):\n",
    "    for id_ in path:\n",
    "        actions.append([courier_id, \"pickup\", order_ids[id_], pickup_point_ids[id_]])\n",
    "        actions.append([courier_id, \"dropoff\", order_ids[id_], dropoff_point_ids[id_]])\n",
    "\n",
    "        # actions.append({ \"courier_id\": int(courier_id),\n",
    "        #                \"action\": \"pickup\",\n",
    "\n",
    "        #                  \"order_id\": int(order_ids[id_]),\n",
    "        #                  \"point_id\": int(pickup_point_ids[id_])})\n",
    "        # actions.append({ \"courier_id\": int(courier_id),\n",
    "        #                \"action\": 'dropoff',\n",
    "        #                  \"order_id\": int(order_ids[id_]),\n",
    "        #                  \"point_id\": int(dropoff_point_ids[id_])})\n",
    "\n",
    "\n",
    "result = pd.DataFrame(actions, columns=['courier_id', 'action', 'order_id', 'point_id'])\n",
    "\n",
    "\n",
    "result.to_json('result_contest.json', orient='records')\n",
    "\n",
    "\n",
    "not_started = 0\n",
    "for path in paths:\n",
    "    if len(path) == 0:\n",
    "        not_started +=1\n",
    "\n",
    "\n",
    "\n",
    "def get_profit(path,time):\n",
    "    total = 0\n",
    "    for id_ in path:\n",
    "        total += money[id_]\n",
    "    return total - (time - 360) * 2\n",
    "profits = []\n",
    "for path, time in zip(paths, times):\n",
    "    profits.append(get_profit(path,time))\n",
    "profits = np.array(profits)\n",
    "np.sum(profits)\n",
    "\n",
    "\n",
    "visited_nodes = visited_nodes | set(paths[0])\n",
    "\n",
    "\n",
    "\n",
    "\n",
    "def greedy_courier(start_position, visited_nodes):\n",
    "    \"\"\"\n",
    "    Need a lot of global variables\n",
    "    \"\"\"\n",
    "    path = []\n",
    "    pick_time_first = 10 + distance_matrix([start_position], pick_coordinates, p=1).reshape((-1,))\n",
    "    drop_time_first = pick_time_first + time_from_start_to_end\n",
    "    metric_first = money - (pick_time_first + drop_time_first) * 2\n",
    "    current_time = 360\n",
    "    sorted_metric = np.argsort(metric_first)[::-1]\n",
    "    # first step\n",
    "    for j, id_ in enumerate(sorted_metric):\n",
    "        if id_ in visited_nodes:\n",
    "            continue\n",
    "        pick_time = current_time + pick_time_first[id_]\n",
    "        drop_time = current_time + drop_time_first[id_]\n",
    "        if metric_first[id_] < -10:\n",
    "            break\n",
    "        if  pick_from[id_] < pick_time < pick_to[id_] and drop_from[id_] < drop_time < drop_to[id_]:\n",
    "            path.append(id_)\n",
    "            current_time = drop_time\n",
    "            metric_from_ends_to_end[:, id_] = -10e5\n",
    "            break\n",
    "    STOP = False\n",
    "    if len(path) == 0:\n",
    "        STOP = True\n",
    "    else:\n",
    "        visited_nodes.add(path[0])\n",
    "    while not STOP:\n",
    "        current_metric_array = metric_from_ends_to_end[path[-1], :]\n",
    "        sorted_metric = np.argsort(current_metric_array)[::-1]\n",
    "        for j, id_ in enumerate(sorted_metric):\n",
    "            pick_time = current_time + time_from_ends_to_starts[path[-1]][id_]\n",
    "            drop_time = pick_time + time_from_start_to_end[id_]\n",
    "            if  current_metric_array[id_] < -10 or current_time >=1439:\n",
    "                STOP = True\n",
    "            if  pick_from[id_] < pick_time < pick_to[id_] and drop_from[id_] < drop_time < drop_to[id_] and id_ not in visited_nodes:\n",
    "                path.append(id_)\n",
    "                visited_nodes.add(id_)\n",
    "                current_time = drop_time\n",
    "                metric_from_ends_to_end[:, id_] = -10e5\n",
    "                break\n",
    "    visited_nodes = visited_nodes\n",
    "    return path, current_time, visited_nodes\n"
   ]
  },
  {
   "cell_type": "code",
   "execution_count": null,
   "metadata": {},
   "outputs": [],
   "source": []
  },
  {
   "cell_type": "code",
   "execution_count": 2,
   "metadata": {},
   "outputs": [],
   "source": [
    "\"\"\"Simple Pickup Delivery Problem (PDP).\"\"\"\n",
    "\n",
    "from __future__ import print_function\n",
    "from ortools.constraint_solver import routing_enums_pb2\n",
    "from ortools.constraint_solver import pywrapcp\n",
    "\n",
    "\n",
    "def create_data_model(path):\n",
    "    \"\"\"Stores the data for the problem.\"\"\"\n",
    "    data = {}\n",
    "    \n",
    "    distance_matrix = []\n",
    "  \n",
    "    coordinates = []\n",
    "    \n",
    "    array_orders = []\n",
    "    for index, order in orders.iterrows():\n",
    "        array_orders.append(order)\n",
    "  \n",
    "    for row_index in path:\n",
    "      coordinates.append((array_orders[row_index]['pickup_location_x'], array_orders[row_index]['pickup_location_y']))\n",
    "      coordinates.append((array_orders[row_index]['dropoff_location_x'], array_orders[row_index]['dropoff_location_y']))\n",
    "    \n",
    "    for coordinate_1 in coordinates:\n",
    "        matrix_row = []\n",
    "        for coordinate_2 in coordinates:\n",
    "            matrix_row.append(courier_distance(coordinate_1[0], coordinate_1[1], coordinate_2[0], coordinate_2[1])) \n",
    "        distance_matrix.append(matrix_row)\n",
    "        \n",
    "    pickups_deliveries = []\n",
    "    current = 2\n",
    "    while current < len(coordinates):\n",
    "        pickups_deliveries.append([current, current + 1])\n",
    "        current += 2\n",
    "        \n",
    "    data['distance_matrix'] = distance_matrix\n",
    "    data['pickups_deliveries'] = pickups_deliveries\n",
    "    data['num_vehicles'] = 1\n",
    "    data['depot'] = 0\n",
    "    return data\n",
    "\n",
    "\n",
    "def print_solution(data, manager, routing, assignment):\n",
    "    \"\"\"Prints assignment on console.\"\"\"\n",
    "    total_distance = 0\n",
    "    answer = []\n",
    "    for vehicle_id in range(data['num_vehicles']):\n",
    "        index = routing.Start(vehicle_id)\n",
    "        \n",
    "        if index % 2 == 0:\n",
    "            string = 'pickup'\n",
    "        else:\n",
    "            string = 'dropoff'\n",
    "            answer.append([index, string])\n",
    "        \n",
    "        plan_output = 'Route for vehicle {}:\\n'.format(vehicle_id)\n",
    "        route_distance = 0\n",
    "        while not routing.IsEnd(index):\n",
    "            plan_output += ' {} -> '.format(manager.IndexToNode(index))\n",
    "            previous_index = index\n",
    "            index = assignment.Value(routing.NextVar(index))\n",
    "            route_distance += routing.GetArcCostForVehicle(\n",
    "                previous_index, index, vehicle_id)\n",
    "            string = \"\"\n",
    "            if index % 2 == 0:\n",
    "                string = 'pickup'\n",
    "            else:\n",
    "                string = 'dropoff'\n",
    "            answer.append([index, string])\n",
    "        plan_output += '{}\\n'.format(manager.IndexToNode(index))\n",
    "        plan_output += 'Distance of the route: {}m\\n'.format(route_distance)\n",
    "        total_distance += route_distance\n",
    "        return answer\n",
    "\n",
    "def main(path):\n",
    "    \"\"\"Entry point of the program.\"\"\"\n",
    "    # Instantiate the data problem.\n",
    "    data = create_data_model(path)\n",
    "\n",
    "    # Create the routing index manager.\n",
    "    manager = pywrapcp.RoutingIndexManager(\n",
    "        len(data['distance_matrix']), data['num_vehicles'], data['depot'])\n",
    "\n",
    "    # Create Routing Model.\n",
    "    routing = pywrapcp.RoutingModel(manager)\n",
    "\n",
    "\n",
    "    # Define cost of each arc.\n",
    "    def distance_callback(from_index, to_index):\n",
    "        \"\"\"Returns the manhattan distance between the two nodes.\"\"\"\n",
    "        # Convert from routing variable Index to distance matrix NodeIndex.\n",
    "        from_node = manager.IndexToNode(from_index)\n",
    "        to_node = manager.IndexToNode(to_index)\n",
    "        return data['distance_matrix'][from_node][to_node]\n",
    "\n",
    "    transit_callback_index = routing.RegisterTransitCallback(distance_callback)\n",
    "    routing.SetArcCostEvaluatorOfAllVehicles(transit_callback_index)\n",
    "\n",
    "    # Add Distance constraint.\n",
    "    dimension_name = 'Distance'\n",
    "    routing.AddDimension(\n",
    "        transit_callback_index,\n",
    "        0,  # no slack\n",
    "        3000,  # vehicle maximum travel distance\n",
    "        True,  # start cumul to zero\n",
    "        dimension_name)\n",
    "    distance_dimension = routing.GetDimensionOrDie(dimension_name)\n",
    "    distance_dimension.SetGlobalSpanCostCoefficient(100)\n",
    "\n",
    "    # Define Transportation Requests.\n",
    "    for request in data['pickups_deliveries']:\n",
    "        pickup_index = manager.NodeToIndex(request[0])\n",
    "        delivery_index = manager.NodeToIndex(request[1])\n",
    "        routing.AddPickupAndDelivery(pickup_index, delivery_index)\n",
    "        routing.solver().Add(\n",
    "            routing.VehicleVar(pickup_index) == routing.VehicleVar(\n",
    "                delivery_index))\n",
    "        routing.solver().Add(\n",
    "            distance_dimension.CumulVar(pickup_index) <=\n",
    "            distance_dimension.CumulVar(delivery_index))\n",
    "\n",
    "    # Setting first solution heuristic.\n",
    "    search_parameters = pywrapcp.DefaultRoutingSearchParameters()\n",
    "    search_parameters.first_solution_strategy = (\n",
    "        routing_enums_pb2.FirstSolutionStrategy.PARALLEL_CHEAPEST_INSERTION)\n",
    "\n",
    "    # Solve the problem.\n",
    "    assignment = routing.SolveWithParameters(search_parameters)\n",
    "\n",
    "    # Print solution on console.\n",
    "    if assignment:\n",
    "        print_solution(data, manager, routing, assignment)\n"
   ]
  },
  {
   "cell_type": "code",
   "execution_count": 5,
   "metadata": {},
   "outputs": [],
   "source": [
    "optimal_paths = []\n",
    "for path in paths:\n",
    "    optimal_paths.append(main(path))\n",
    "print(optimal_paths)"
   ]
  },
  {
   "cell_type": "code",
   "execution_count": 1,
   "metadata": {},
   "outputs": [
    {
     "ename": "NameError",
     "evalue": "name 'main' is not defined",
     "traceback": [
      "\u001b[0;31m---------------------------------------------------------------------------\u001b[0m",
      "\u001b[0;31mNameError\u001b[0m                                 Traceback (most recent call last)",
      "\u001b[0;32m<ipython-input-1-263240bbee7e>\u001b[0m in \u001b[0;36m<module>\u001b[0;34m\u001b[0m\n\u001b[0;32m----> 1\u001b[0;31m \u001b[0mmain\u001b[0m\u001b[0;34m(\u001b[0m\u001b[0;34m)\u001b[0m\u001b[0;34m\u001b[0m\u001b[0;34m\u001b[0m\u001b[0m\n\u001b[0m",
      "\u001b[0;31mNameError\u001b[0m: name 'main' is not defined"
     ],
     "output_type": "error"
    }
   ],
   "source": [
    "main()\n"
   ]
  },
  {
   "cell_type": "code",
   "execution_count": null,
   "metadata": {},
   "outputs": [],
   "source": [
    "def check_path(path):\n",
    "    "
   ]
  }
 ],
 "metadata": {
  "kernelspec": {
   "display_name": "Python 3",
   "language": "python",
   "name": "python3"
  },
  "language_info": {
   "codemirror_mode": {
    "name": "ipython",
    "version": 3
   },
   "file_extension": ".py",
   "mimetype": "text/x-python",
   "name": "python",
   "nbconvert_exporter": "python",
   "pygments_lexer": "ipython3",
   "version": "3.5.2"
  }
 },
 "nbformat": 4,
 "nbformat_minor": 2
}
