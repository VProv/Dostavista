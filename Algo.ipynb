{
 "cells": [
  {
   "cell_type": "code",
   "execution_count": 1,
   "metadata": {},
   "outputs": [],
   "source": [
    "import json\n",
    "import pandas as pd\n",
    "import matplotlib.pyplot as plt\n",
    "import seaborn as sns\n",
    "import numpy as np\n",
    "from tqdm import tqdm\n",
    "from scipy.spatial import distance_matrix"
   ]
  },
  {
   "cell_type": "code",
   "execution_count": 2,
   "metadata": {},
   "outputs": [],
   "source": [
    "with open('data/contest_input.json') as f:\n",
    "#with open('data/hard_input.json') as f:\n",
    "    contest_data = json.load(f)"
   ]
  },
  {
   "cell_type": "code",
   "execution_count": 3,
   "metadata": {},
   "outputs": [
    {
     "data": {
      "text/plain": [
       "dict_keys(['depots', 'orders', 'couriers'])"
      ]
     },
     "execution_count": 3,
     "metadata": {},
     "output_type": "execute_result"
    }
   ],
   "source": [
    "contest_data.keys()"
   ]
  },
  {
   "cell_type": "code",
   "execution_count": 4,
   "metadata": {},
   "outputs": [],
   "source": [
    "couriers = pd.DataFrame(contest_data['couriers'])\n",
    "orders = pd.DataFrame(contest_data['orders'])\n",
    "depots = pd.DataFrame(contest_data['depots'])"
   ]
  },
  {
   "cell_type": "code",
   "execution_count": 5,
   "metadata": {},
   "outputs": [],
   "source": [
    "def filter_orders(orders):\n",
    "    orders = orders[(orders['pickup_to']>=360) \n",
    "                    & (orders['dropoff_to'] >=360) \n",
    "                    & (orders['payment'] > 0) \n",
    "                    & (orders['dropoff_to'] >= orders['pickup_to'])]\n",
    "    return orders"
   ]
  },
  {
   "cell_type": "code",
   "execution_count": 6,
   "metadata": {},
   "outputs": [],
   "source": [
    "orders = filter_orders(orders)"
   ]
  },
  {
   "cell_type": "code",
   "execution_count": 7,
   "metadata": {},
   "outputs": [],
   "source": [
    "couriers_x = couriers.location_x\n",
    "couriers_y = couriers.location_y"
   ]
  },
  {
   "cell_type": "code",
   "execution_count": 8,
   "metadata": {},
   "outputs": [],
   "source": [
    "def manh_distance(x0,y0,x1,y1):\n",
    "    return np.abs(x0 - x1) + np.abs(y0-y1)\n",
    "\n",
    "def courier_distance(x0,y0,x1,y1):\n",
    "    return 10 + manh_distance(x0,y0,x1,y1)"
   ]
  },
  {
   "cell_type": "code",
   "execution_count": 65,
   "metadata": {},
   "outputs": [
    {
     "name": "stdout",
     "output_type": "stream",
     "text": [
      "CPU times: user 1.72 s, sys: 985 ms, total: 2.71 s\n",
      "Wall time: 2.71 s\n"
     ]
    }
   ],
   "source": [
    "%%time\n",
    "drop_x = orders['dropoff_location_x'].values\n",
    "drop_y = orders['dropoff_location_y'].values\n",
    "pick_x = orders['pickup_location_x'].values\n",
    "pick_y = orders['pickup_location_y'].values\n",
    "\n",
    "money = orders['payment'].values\n",
    "end2start = np.zeros((orders.shape[0], orders.shape[0]))\n",
    "end2start_time = np.zeros((orders.shape[0], orders.shape[0]))\n",
    "drop_coordinates = orders[['dropoff_location_x', 'dropoff_location_y']].values\n",
    "pick_coordinates = orders[['pickup_location_x', 'pickup_location_y']].values\n",
    "time_from_start_to_end = np.array(courier_distance(pick_x, pick_y, drop_x, drop_y))\n",
    "# [end_id, start_id]\n",
    "time_from_ends_to_starts = 10 + distance_matrix(drop_coordinates, pick_coordinates, p=1).astype('float')\n",
    "# Avoid to go to myself\n",
    "time_from_ends_to_starts += np.eye(time_from_ends_to_starts.shape[0]) * 10e6\n",
    "# end0 -> start1 -> end1\n",
    "\n",
    "time_from_ends_to_end = time_from_start_to_end + time_from_ends_to_starts\n",
    "#\n",
    "metric_from_ends_to_end = np.array(money) - time_from_ends_to_end * 2\n",
    "\n",
    "drop_from = orders['dropoff_from'].values\n",
    "drop_to = orders['dropoff_to'].values\n",
    "pick_from = orders['pickup_from'].values\n",
    "pick_to = orders['pickup_to'].values"
   ]
  },
  {
   "cell_type": "code",
   "execution_count": 66,
   "metadata": {},
   "outputs": [],
   "source": [
    "def greedy_courier(start_position, visited_nodes, PROFIT_THRESHOLD=50):\n",
    "    \"\"\"\n",
    "    Need a lot of global variables\n",
    "    \"\"\"\n",
    "    path = []\n",
    "    pick_time_first = 10 + distance_matrix([start_position], pick_coordinates, p=1).reshape((-1,))\n",
    "    drop_time_first = pick_time_first + time_from_start_to_end\n",
    "    metric_first = money - (pick_time_first + drop_time_first) * 2\n",
    "    current_time = 360\n",
    "    sorted_metric = np.argsort(metric_first)[::-1]\n",
    "    # first step\n",
    "    for j, id_ in enumerate(sorted_metric):\n",
    "        if id_ in visited_nodes:\n",
    "            continue\n",
    "        pick_time = current_time + pick_time_first[id_]\n",
    "        drop_time = current_time + drop_time_first[id_]\n",
    "        \n",
    "        if metric_first[id_] < -10:\n",
    "            break\n",
    "        if  pick_from[id_] < pick_time < pick_to[id_] and drop_from[id_] < drop_time < drop_to[id_]:\n",
    "            path.append(id_)\n",
    "            current_time = drop_time\n",
    "            metric_from_ends_to_end[:, id_] = -10e5\n",
    "            break\n",
    "        elif pick_time < pick_from[id_]: # Let's wait\n",
    "            wait_pick = pick_from[id_] - pick_time\n",
    "            pick_time = pick_from[id_]\n",
    "            new_drop_time = pick_time + time_from_start_to_end[id_]\n",
    "            if new_drop_time < drop_to[id_]: # Can drop\n",
    "                if drop_from[id_] <= new_drop_time: # In time!\n",
    "                    if (metric_first[id_] - wait_pick * 2) > -50:\n",
    "                        path.append(id_)\n",
    "                        current_time = new_drop_time\n",
    "                        metric_from_ends_to_end[:, id_] = -10e5\n",
    "                        break\n",
    "                else: # Should wait drop\n",
    "                    wait_drop = drop_from[id_] - new_drop_time\n",
    "                    if (metric_first[id_] - wait_pick * 2 - wait_drop * 2) > -50:\n",
    "                        path.append(id_)\n",
    "                        current_time = new_drop_time + wait_drop\n",
    "                        metric_from_ends_to_end[:, id_] = -10e5\n",
    "                        break\n",
    "    STOP = False\n",
    "    if len(path) == 0:\n",
    "        STOP = True\n",
    "    else:\n",
    "        visited_nodes.add(path[0])\n",
    "    while not STOP:\n",
    "        current_metric_array = metric_from_ends_to_end[path[-1], :]\n",
    "        sorted_metric = np.argsort(current_metric_array)[::-1]\n",
    "        for j, id_ in enumerate(sorted_metric):\n",
    "            pick_time = current_time + time_from_ends_to_starts[path[-1]][id_]\n",
    "            drop_time = pick_time + time_from_start_to_end[id_]\n",
    "            if  current_metric_array[id_] < -10 or current_time >=1439:\n",
    "                STOP = True\n",
    "            if  pick_from[id_] < pick_time < pick_to[id_] and drop_from[id_] < drop_time < drop_to[id_] and id_ not in visited_nodes:\n",
    "                path.append(id_)\n",
    "                visited_nodes.add(id_)\n",
    "                current_time = drop_time\n",
    "                metric_from_ends_to_end[:, id_] = -10e5\n",
    "                break  \n",
    "            elif pick_time < pick_from[id_]: # Let's wait\n",
    "                wait_pick = pick_from[id_] - pick_time\n",
    "                pick_time = pick_from[id_]\n",
    "                new_drop_time = pick_time + time_from_start_to_end[id_]\n",
    "                if new_drop_time < drop_to[id_]: # Can drop\n",
    "                    if drop_from[id_] <= new_drop_time: # In time!\n",
    "                        if (current_metric_array[id_] - wait_pick * 2) > PROFIT_THRESHOLD:\n",
    "                            path.append(id_)\n",
    "                            visited_nodes.add(id_)\n",
    "                            current_time = new_drop_time\n",
    "                            metric_from_ends_to_end[:, id_] = -10e5\n",
    "                            break\n",
    "                    else: # Should wait drop\n",
    "                        wait_drop = drop_from[id_] - new_drop_time\n",
    "                        if (current_metric_array[id_] - wait_pick * 2 - wait_drop * 2) > PROFIT_THRESHOLD:\n",
    "                            path.append(id_)\n",
    "                            visited_nodes.add(id_)\n",
    "                            current_time = new_drop_time + wait_drop\n",
    "                            metric_from_ends_to_end[:, id_] = -10e5\n",
    "                            break\n",
    "    visited_nodes = visited_nodes\n",
    "    return path, current_time, visited_nodes"
   ]
  },
  {
   "cell_type": "code",
   "execution_count": 67,
   "metadata": {},
   "outputs": [
    {
     "name": "stderr",
     "output_type": "stream",
     "text": [
      "100%|██████████| 300/300 [00:11<00:00, 35.07it/s]\n"
     ]
    }
   ],
   "source": [
    "paths, times = [], []\n",
    "visited_nodes = set()\n",
    "for start_position in tqdm(couriers[['location_x', 'location_y']].values):\n",
    "    path, time, visited_nodes = greedy_courier(start_position, visited_nodes=visited_nodes)\n",
    "    paths.append(path)\n",
    "    times.append(time)"
   ]
  },
  {
   "cell_type": "code",
   "execution_count": 68,
   "metadata": {},
   "outputs": [],
   "source": [
    "order_ids = orders['order_id'].values\n",
    "pickup_point_ids = orders['pickup_point_id'].values\n",
    "dropoff_point_ids = orders['dropoff_point_id'].values"
   ]
  },
  {
   "cell_type": "code",
   "execution_count": 69,
   "metadata": {},
   "outputs": [
    {
     "data": {
      "text/html": [
       "<div>\n",
       "<style scoped>\n",
       "    .dataframe tbody tr th:only-of-type {\n",
       "        vertical-align: middle;\n",
       "    }\n",
       "\n",
       "    .dataframe tbody tr th {\n",
       "        vertical-align: top;\n",
       "    }\n",
       "\n",
       "    .dataframe thead th {\n",
       "        text-align: right;\n",
       "    }\n",
       "</style>\n",
       "<table border=\"1\" class=\"dataframe\">\n",
       "  <thead>\n",
       "    <tr style=\"text-align: right;\">\n",
       "      <th></th>\n",
       "      <th>dropoff_from</th>\n",
       "      <th>dropoff_location_x</th>\n",
       "      <th>dropoff_location_y</th>\n",
       "      <th>dropoff_point_id</th>\n",
       "      <th>dropoff_to</th>\n",
       "      <th>order_id</th>\n",
       "      <th>payment</th>\n",
       "      <th>pickup_from</th>\n",
       "      <th>pickup_location_x</th>\n",
       "      <th>pickup_location_y</th>\n",
       "      <th>pickup_point_id</th>\n",
       "      <th>pickup_to</th>\n",
       "    </tr>\n",
       "  </thead>\n",
       "  <tbody>\n",
       "    <tr>\n",
       "      <th>0</th>\n",
       "      <td>600</td>\n",
       "      <td>252</td>\n",
       "      <td>197</td>\n",
       "      <td>60001</td>\n",
       "      <td>960</td>\n",
       "      <td>10001</td>\n",
       "      <td>313</td>\n",
       "      <td>480</td>\n",
       "      <td>284</td>\n",
       "      <td>235</td>\n",
       "      <td>40001</td>\n",
       "      <td>570</td>\n",
       "    </tr>\n",
       "    <tr>\n",
       "      <th>1</th>\n",
       "      <td>630</td>\n",
       "      <td>24</td>\n",
       "      <td>105</td>\n",
       "      <td>60002</td>\n",
       "      <td>660</td>\n",
       "      <td>10002</td>\n",
       "      <td>519</td>\n",
       "      <td>420</td>\n",
       "      <td>244</td>\n",
       "      <td>262</td>\n",
       "      <td>40002</td>\n",
       "      <td>450</td>\n",
       "    </tr>\n",
       "  </tbody>\n",
       "</table>\n",
       "</div>"
      ],
      "text/plain": [
       "   dropoff_from  dropoff_location_x  dropoff_location_y  dropoff_point_id  \\\n",
       "0           600                 252                 197             60001   \n",
       "1           630                  24                 105             60002   \n",
       "\n",
       "   dropoff_to  order_id  payment  pickup_from  pickup_location_x  \\\n",
       "0         960     10001      313          480                284   \n",
       "1         660     10002      519          420                244   \n",
       "\n",
       "   pickup_location_y  pickup_point_id  pickup_to  \n",
       "0                235            40001        570  \n",
       "1                262            40002        450  "
      ]
     },
     "execution_count": 69,
     "metadata": {},
     "output_type": "execute_result"
    }
   ],
   "source": [
    "orders[:2]"
   ]
  },
  {
   "cell_type": "code",
   "execution_count": 70,
   "metadata": {},
   "outputs": [],
   "source": [
    "actions = []\n",
    "for path, courier_id in zip(paths, np.arange(1,301)):\n",
    "    for id_ in path:\n",
    "        actions.append([courier_id, \"pickup\", order_ids[id_], pickup_point_ids[id_]])\n",
    "        actions.append([courier_id, \"dropoff\", order_ids[id_], dropoff_point_ids[id_]])\n",
    "        \n",
    "        #actions.append({ \"courier_id\": int(courier_id),\n",
    "        #                \"action\": \"pickup\",\n",
    "        #                  \"order_id\": int(order_ids[id_]),\n",
    "        #                  \"point_id\": int(pickup_point_ids[id_])})\n",
    "        #actions.append({ \"courier_id\": int(courier_id),\n",
    "        #                \"action\": 'dropoff',\n",
    "        #                  \"order_id\": int(order_ids[id_]),\n",
    "        #                  \"point_id\": int(dropoff_point_ids[id_])})"
   ]
  },
  {
   "cell_type": "code",
   "execution_count": 71,
   "metadata": {},
   "outputs": [],
   "source": [
    "result = pd.DataFrame(actions, columns=['courier_id', 'action', 'order_id', 'point_id'])"
   ]
  },
  {
   "cell_type": "code",
   "execution_count": 72,
   "metadata": {},
   "outputs": [],
   "source": [
    "result.to_json('result_contest.json', orient='records')"
   ]
  },
  {
   "cell_type": "code",
   "execution_count": 73,
   "metadata": {},
   "outputs": [],
   "source": [
    "not_started = 0\n",
    "for path in paths:\n",
    "    if len(path) == 0:\n",
    "        not_started +=1 "
   ]
  },
  {
   "cell_type": "code",
   "execution_count": 74,
   "metadata": {},
   "outputs": [
    {
     "data": {
      "text/plain": [
       "46"
      ]
     },
     "execution_count": 74,
     "metadata": {},
     "output_type": "execute_result"
    }
   ],
   "source": [
    "not_started"
   ]
  },
  {
   "cell_type": "code",
   "execution_count": 75,
   "metadata": {},
   "outputs": [
    {
     "data": {
      "text/plain": [
       "216599.0"
      ]
     },
     "execution_count": 75,
     "metadata": {},
     "output_type": "execute_result"
    }
   ],
   "source": [
    "def get_profit(path,time):\n",
    "    total = 0\n",
    "    for id_ in path:\n",
    "        total += money[id_]\n",
    "    return total - (time - 360) * 2\n",
    "profits = []\n",
    "for path, time in zip(paths, times):\n",
    "    profits.append(get_profit(path,time))\n",
    "profits = np.array(profits)\n",
    "np.sum(profits)"
   ]
  },
  {
   "cell_type": "code",
   "execution_count": 22,
   "metadata": {},
   "outputs": [
    {
     "data": {
      "text/plain": [
       "164942.0"
      ]
     },
     "execution_count": 22,
     "metadata": {},
     "output_type": "execute_result"
    }
   ],
   "source": []
  },
  {
   "cell_type": "code",
   "execution_count": 134,
   "metadata": {},
   "outputs": [],
   "source": [
    "visited_nodes = visited_nodes | set(paths[0])"
   ]
  },
  {
   "cell_type": "code",
   "execution_count": 135,
   "metadata": {},
   "outputs": [
    {
     "data": {
      "text/plain": [
       "{1289, 1791, 1810, 3896, 6524, 6760, 6814, 6973, 7001, 7143}"
      ]
     },
     "execution_count": 135,
     "metadata": {},
     "output_type": "execute_result"
    }
   ],
   "source": [
    "visited_nodes"
   ]
  },
  {
   "cell_type": "code",
   "execution_count": null,
   "metadata": {},
   "outputs": [],
   "source": []
  },
  {
   "cell_type": "code",
   "execution_count": 29,
   "metadata": {},
   "outputs": [],
   "source": [
    "def greedy_courier(start_position, visited_nodes):\n",
    "    \"\"\"\n",
    "    Need a lot of global variables\n",
    "    \"\"\"\n",
    "    path = []\n",
    "    pick_time_first = 10 + distance_matrix([start_position], pick_coordinates, p=1).reshape((-1,))\n",
    "    drop_time_first = pick_time_first + time_from_start_to_end\n",
    "    metric_first = money - (pick_time_first + drop_time_first) * 2\n",
    "    current_time = 360\n",
    "    sorted_metric = np.argsort(metric_first)[::-1]\n",
    "    # first step\n",
    "    for j, id_ in enumerate(sorted_metric):\n",
    "        if id_ in visited_nodes:\n",
    "            continue\n",
    "        pick_time = current_time + pick_time_first[id_]\n",
    "        drop_time = current_time + drop_time_first[id_]\n",
    "        if metric_first[id_] < -10:\n",
    "            break\n",
    "        if  pick_from[id_] < pick_time < pick_to[id_] and drop_from[id_] < drop_time < drop_to[id_]:\n",
    "            path.append(id_)\n",
    "            current_time = drop_time\n",
    "            metric_from_ends_to_end[:, id_] = -10e5\n",
    "            break\n",
    "    STOP = False\n",
    "    if len(path) == 0:\n",
    "        STOP = True\n",
    "    else:\n",
    "        visited_nodes.add(path[0])\n",
    "    while not STOP:\n",
    "        current_metric_array = metric_from_ends_to_end[path[-1], :]\n",
    "        sorted_metric = np.argsort(current_metric_array)[::-1]\n",
    "        for j, id_ in enumerate(sorted_metric):\n",
    "            pick_time = current_time + time_from_ends_to_starts[path[-1]][id_]\n",
    "            drop_time = pick_time + time_from_start_to_end[id_]\n",
    "            if  current_metric_array[id_] < -10 or current_time >=1439:\n",
    "                STOP = True\n",
    "            if  pick_from[id_] < pick_time < pick_to[id_] and drop_from[id_] < drop_time < drop_to[id_] and id_ not in visited_nodes:\n",
    "                path.append(id_)\n",
    "                visited_nodes.add(id_)\n",
    "                current_time = drop_time\n",
    "                metric_from_ends_to_end[:, id_] = -10e5\n",
    "                break  \n",
    "    visited_nodes = visited_nodes\n",
    "    return path, current_time, visited_nodes"
   ]
  },
  {
   "cell_type": "code",
   "execution_count": null,
   "metadata": {},
   "outputs": [],
   "source": []
  },
  {
   "cell_type": "code",
   "execution_count": null,
   "metadata": {},
   "outputs": [],
   "source": []
  },
  {
   "cell_type": "code",
   "execution_count": null,
   "metadata": {},
   "outputs": [],
   "source": []
  },
  {
   "cell_type": "code",
   "execution_count": null,
   "metadata": {},
   "outputs": [],
   "source": []
  },
  {
   "cell_type": "code",
   "execution_count": null,
   "metadata": {},
   "outputs": [],
   "source": []
  },
  {
   "cell_type": "code",
   "execution_count": null,
   "metadata": {},
   "outputs": [],
   "source": []
  },
  {
   "cell_type": "code",
   "execution_count": null,
   "metadata": {},
   "outputs": [],
   "source": []
  },
  {
   "cell_type": "code",
   "execution_count": null,
   "metadata": {},
   "outputs": [],
   "source": []
  }
 ],
 "metadata": {
  "kernelspec": {
   "display_name": "Python 3",
   "language": "python",
   "name": "python3"
  },
  "language_info": {
   "codemirror_mode": {
    "name": "ipython",
    "version": 3
   },
   "file_extension": ".py",
   "mimetype": "text/x-python",
   "name": "python",
   "nbconvert_exporter": "python",
   "pygments_lexer": "ipython3",
   "version": "3.5.2"
  }
 },
 "nbformat": 4,
 "nbformat_minor": 2
}
